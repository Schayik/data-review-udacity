{
 "cells": [
  {
   "cell_type": "markdown",
   "id": "imperial-steam",
   "metadata": {},
   "source": [
    "This notebook is used to dive deeper into the model we created. We create a pie chart that represents the importance of each column in the original data set:\n",
    "\n",
    "1. Obtain model using load_model and obtain the best params obtained from the grid search\n",
    "2. Load data and split it into the tax band populated X and y\n",
    "3. Apply the transformation and fit the random forest with the best params\n",
    "4. Obtain the feature importances and list them in a pandas series\n",
    "5. Combine the categorical dummies to reduce them to one feature\n",
    "6. Combine the unimportant features\n",
    "7. Sort the values and plot a pie chart"
   ]
  },
  {
   "cell_type": "code",
   "execution_count": 1,
   "id": "statistical-temple",
   "metadata": {},
   "outputs": [],
   "source": [
    "import pickle\n",
    "import pandas as pd\n",
    "from sqlalchemy import create_engine\n",
    "from sklearn.ensemble import RandomForestClassifier\n",
    "\n",
    "from emissions_transformer import EmissionsTransformer\n",
    "\n",
    "import matplotlib.pyplot as plt\n",
    "%matplotlib inline"
   ]
  },
  {
   "cell_type": "code",
   "execution_count": 2,
   "id": "instant-talent",
   "metadata": {},
   "outputs": [],
   "source": [
    "def load_data(database_filepath):\n",
    "    \"\"\"Loads the data from a database file and returns the target.\"\"\"\n",
    "\n",
    "    engine = create_engine(f'sqlite:///{database_filepath}')\n",
    "    df = pd.read_sql_table('emissions', engine)\n",
    "\n",
    "    return df"
   ]
  },
  {
   "cell_type": "code",
   "execution_count": 3,
   "id": "grand-slope",
   "metadata": {},
   "outputs": [],
   "source": [
    "df = load_data('../data/emissions.db')"
   ]
  },
  {
   "cell_type": "code",
   "execution_count": 4,
   "id": "statewide-produce",
   "metadata": {},
   "outputs": [],
   "source": [
    "def split_data(df):\n",
    "    \"\"\"Simplified version of the split\"\"\"\n",
    "\n",
    "    df_pop = df.dropna(subset=['tax_band'])\n",
    "    X_pop = df_pop.drop(columns='tax_band')\n",
    "    y_pop = df_pop['tax_band']\n",
    "\n",
    "    df_nan = df[df['tax_band'].isnull()]\n",
    "    X_nan = df_nan.drop(columns='tax_band')\n",
    "\n",
    "    return X_pop, y_pop, X_nan"
   ]
  },
  {
   "cell_type": "code",
   "execution_count": 5,
   "id": "permanent-commerce",
   "metadata": {},
   "outputs": [],
   "source": [
    "X_pop, y_pop, X_nan = split_data(df)"
   ]
  },
  {
   "cell_type": "code",
   "execution_count": 6,
   "id": "infrared-thanksgiving",
   "metadata": {},
   "outputs": [],
   "source": [
    "def load_model(filepath):\n",
    "    with open(filepath, 'rb') as file:\n",
    "        model = pickle.load(file)\n",
    "        \n",
    "    return model"
   ]
  },
  {
   "cell_type": "code",
   "execution_count": 7,
   "id": "introductory-favor",
   "metadata": {},
   "outputs": [],
   "source": [
    "model = load_model('./classifier.pkl')"
   ]
  },
  {
   "cell_type": "code",
   "execution_count": 8,
   "id": "latter-fountain",
   "metadata": {},
   "outputs": [
    {
     "data": {
      "text/plain": [
       "{'clf__criterion': 'entropy'}"
      ]
     },
     "execution_count": 8,
     "metadata": {},
     "output_type": "execute_result"
    }
   ],
   "source": [
    "model.best_params_"
   ]
  },
  {
   "cell_type": "code",
   "execution_count": 9,
   "id": "technological-river",
   "metadata": {},
   "outputs": [],
   "source": [
    "tf = EmissionsTransformer()\n",
    "X_tf = tf.transform(X_pop)"
   ]
  },
  {
   "cell_type": "code",
   "execution_count": 10,
   "id": "norman-prior",
   "metadata": {},
   "outputs": [
    {
     "data": {
      "text/plain": [
       "RandomForestClassifier(criterion='entropy')"
      ]
     },
     "execution_count": 10,
     "metadata": {},
     "output_type": "execute_result"
    }
   ],
   "source": [
    "clf = RandomForestClassifier(criterion=\"entropy\")\n",
    "clf.fit(X_tf, y_pop)"
   ]
  },
  {
   "cell_type": "code",
   "execution_count": 11,
   "id": "annoying-guyana",
   "metadata": {},
   "outputs": [
    {
     "data": {
      "text/plain": [
       "array([2.00401461e-03, 1.37311994e-03, 5.63965308e-02, 2.12432432e-01,\n",
       "       1.55589633e-02, 3.18115170e-01, 1.25468216e-02, 2.13237952e-02,\n",
       "       3.29401969e-02, 1.08938719e-02, 2.18050471e-01, 1.91158439e-04,\n",
       "       6.55400281e-04, 1.05330639e-03, 2.94138165e-03, 5.94324939e-04,\n",
       "       1.00731715e-03, 8.08737929e-04, 3.57015300e-04, 1.51461109e-03,\n",
       "       1.26277964e-03, 5.84799167e-04, 1.54695167e-04, 1.14404914e-03,\n",
       "       3.62258395e-04, 2.10108771e-04, 4.33475300e-04, 3.05005786e-03,\n",
       "       3.61566668e-04, 6.28414240e-04, 5.66911156e-04, 2.71039199e-03,\n",
       "       1.11204453e-03, 2.18235326e-03, 8.49234771e-04, 3.49850077e-04,\n",
       "       7.36964945e-04, 5.59375047e-04, 5.21112906e-04, 4.56418635e-04,\n",
       "       6.36224279e-04, 1.67674436e-03, 2.95076642e-03, 1.86609504e-03,\n",
       "       6.94236588e-04, 5.98015905e-04, 6.72432401e-04, 9.45424428e-04,\n",
       "       3.03475003e-04, 1.91666949e-03, 3.41179289e-03, 2.67833877e-03,\n",
       "       1.87314435e-03, 4.35956307e-04, 3.34477854e-04, 4.06234498e-04,\n",
       "       8.11381014e-04, 1.54079139e-03, 4.35095472e-04, 4.41402838e-03,\n",
       "       4.39968511e-03, 1.93775013e-03, 2.20406012e-04, 8.99425295e-05,\n",
       "       6.61556351e-04, 8.61179055e-04, 5.44380797e-03, 4.09892843e-03,\n",
       "       1.21275144e-02, 8.25612913e-04, 1.05932959e-02, 1.14349439e-03])"
      ]
     },
     "execution_count": 11,
     "metadata": {},
     "output_type": "execute_result"
    }
   ],
   "source": [
    "clf.feature_importances_"
   ]
  },
  {
   "cell_type": "code",
   "execution_count": 12,
   "id": "varying-halloween",
   "metadata": {},
   "outputs": [
    {
     "data": {
      "text/plain": [
       "((7837, 72), 72)"
      ]
     },
     "execution_count": 12,
     "metadata": {},
     "output_type": "execute_result"
    }
   ],
   "source": [
    "X_tf.shape, len(clf.feature_importances_)\n"
   ]
  },
  {
   "cell_type": "code",
   "execution_count": 13,
   "id": "greenhouse-vintage",
   "metadata": {},
   "outputs": [],
   "source": [
    "fi = pd.Series(data=clf.feature_importances_, index=X_tf.columns)"
   ]
  },
  {
   "cell_type": "code",
   "execution_count": 14,
   "id": "automated-string",
   "metadata": {},
   "outputs": [
    {
     "data": {
      "text/plain": [
       "co2                       0.318115\n",
       "fuel_cost_12000_miles     0.218050\n",
       "combined_metric           0.212432\n",
       "engine_capacity           0.056397\n",
       "nox_emissions             0.032940\n",
       "co_emissions              0.021324\n",
       "noise_level               0.015559\n",
       "thc_emissions             0.012547\n",
       "fuel_type_Diesel          0.012128\n",
       "particulates_emissions    0.010894\n",
       "dtype: float64"
      ]
     },
     "execution_count": 14,
     "metadata": {},
     "output_type": "execute_result"
    }
   ],
   "source": [
    "fi.sort_values(ascending=False).head(10)"
   ]
  },
  {
   "cell_type": "code",
   "execution_count": 39,
   "id": "electronic-delivery",
   "metadata": {},
   "outputs": [
    {
     "data": {
      "text/plain": [
       "1.0"
      ]
     },
     "execution_count": 39,
     "metadata": {},
     "output_type": "execute_result"
    }
   ],
   "source": [
    "fi.sum()"
   ]
  },
  {
   "cell_type": "code",
   "execution_count": 40,
   "id": "center-museum",
   "metadata": {},
   "outputs": [
    {
     "data": {
      "text/plain": [
       "0.03448994491102611"
      ]
     },
     "execution_count": 40,
     "metadata": {},
     "output_type": "execute_result"
    }
   ],
   "source": [
    "mf_index = [x for x in fi.index.values if 'manufacturer' in x]\n",
    "fi[mf_index].sum()"
   ]
  },
  {
   "cell_type": "code",
   "execution_count": 41,
   "id": "european-banner",
   "metadata": {},
   "outputs": [
    {
     "data": {
      "text/plain": [
       "0.024689917611377284"
      ]
     },
     "execution_count": 41,
     "metadata": {},
     "output_type": "execute_result"
    }
   ],
   "source": [
    "ft_index = [x for x in fi.index.values if 'fuel_type' in x]\n",
    "fi[ft_index].sum()"
   ]
  },
  {
   "cell_type": "code",
   "execution_count": 42,
   "id": "occasional-cattle",
   "metadata": {},
   "outputs": [
    {
     "data": {
      "text/plain": [
       "0.02964201391961339"
      ]
     },
     "execution_count": 42,
     "metadata": {},
     "output_type": "execute_result"
    }
   ],
   "source": [
    "tm_index = [x for x in fi.index.values if 'transmission' in x and 'transmission_type' not in x]\n",
    "fi[tm_index].sum()"
   ]
  },
  {
   "cell_type": "code",
   "execution_count": 43,
   "id": "enhanced-filename",
   "metadata": {},
   "outputs": [
    {
     "data": {
      "text/plain": [
       "0.009542736401081102"
      ]
     },
     "execution_count": 43,
     "metadata": {},
     "output_type": "execute_result"
    }
   ],
   "source": [
    "tmt_index = [x for x in fi.index.values if 'transmission_type' in x]\n",
    "fi[tmt_index].sum()"
   ]
  },
  {
   "cell_type": "code",
   "execution_count": 44,
   "id": "institutional-discovery",
   "metadata": {},
   "outputs": [],
   "source": [
    "fi_new = fi.copy()\n",
    "fi_new.drop(labels=mf_index, inplace=True)\n",
    "fi_new.drop(labels=ft_index, inplace=True)\n",
    "fi_new.drop(labels=tm_index, inplace=True)\n",
    "fi_new.drop(labels=tmt_index, inplace=True)\n",
    "fi_new['manufacturer'] = fi[mf_index].sum()\n",
    "fi_new['fuel_type'] = fi[ft_index].sum()\n",
    "fi_new['transmission'] = fi[tm_index].sum()\n",
    "fi_new['transmission_type'] = fi[tmt_index].sum()\n"
   ]
  },
  {
   "cell_type": "code",
   "execution_count": 45,
   "id": "criminal-spanking",
   "metadata": {},
   "outputs": [
    {
     "data": {
      "text/plain": [
       "year                      0.002004\n",
       "euro_standard             0.001373\n",
       "engine_capacity           0.056397\n",
       "combined_metric           0.212432\n",
       "noise_level               0.015559\n",
       "co2                       0.318115\n",
       "thc_emissions             0.012547\n",
       "co_emissions              0.021324\n",
       "nox_emissions             0.032940\n",
       "particulates_emissions    0.010894\n",
       "fuel_cost_12000_miles     0.218050\n",
       "manufacturer              0.034490\n",
       "fuel_type                 0.024690\n",
       "transmission              0.029642\n",
       "transmission_type         0.009543\n",
       "dtype: float64"
      ]
     },
     "execution_count": 45,
     "metadata": {},
     "output_type": "execute_result"
    }
   ],
   "source": [
    "fi_new"
   ]
  },
  {
   "cell_type": "code",
   "execution_count": 46,
   "id": "improved-teach",
   "metadata": {},
   "outputs": [
    {
     "data": {
      "text/plain": [
       "0.9999999999999999"
      ]
     },
     "execution_count": 46,
     "metadata": {},
     "output_type": "execute_result"
    }
   ],
   "source": [
    "fi_new.sum()"
   ]
  },
  {
   "cell_type": "code",
   "execution_count": 54,
   "id": "fifth-feeding",
   "metadata": {},
   "outputs": [],
   "source": [
    "fi_new.sort_values(ascending=False, inplace=True)"
   ]
  },
  {
   "cell_type": "code",
   "execution_count": 47,
   "id": "appreciated-morgan",
   "metadata": {},
   "outputs": [],
   "source": [
    "fi_new['year and euro standard'] = fi_new['year'] + fi_new['euro_standard']\n",
    "fi_new.drop(labels=['year', 'euro_standard'], inplace=True)"
   ]
  },
  {
   "cell_type": "code",
   "execution_count": 48,
   "id": "functional-pennsylvania",
   "metadata": {},
   "outputs": [
    {
     "data": {
      "text/plain": [
       "engine_capacity           0.056397\n",
       "combined_metric           0.212432\n",
       "noise_level               0.015559\n",
       "co2                       0.318115\n",
       "thc_emissions             0.012547\n",
       "co_emissions              0.021324\n",
       "nox_emissions             0.032940\n",
       "particulates_emissions    0.010894\n",
       "fuel_cost_12000_miles     0.218050\n",
       "manufacturer              0.034490\n",
       "fuel_type                 0.024690\n",
       "transmission              0.029642\n",
       "transmission_type         0.009543\n",
       "year and euro standard    0.003377\n",
       "dtype: float64"
      ]
     },
     "execution_count": 48,
     "metadata": {},
     "output_type": "execute_result"
    }
   ],
   "source": [
    "fi_new"
   ]
  },
  {
   "cell_type": "code",
   "execution_count": 62,
   "id": "elegant-mobile",
   "metadata": {},
   "outputs": [
    {
     "data": {
      "text/plain": [
       "<AxesSubplot:>"
      ]
     },
     "execution_count": 62,
     "metadata": {},
     "output_type": "execute_result"
    },
    {
     "data": {
      "image/png": "[encoded data removed]",
      "text/plain": [
       "<Figure size 720x720 with 1 Axes>"
      ]
     },
     "metadata": {},
     "output_type": "display_data"
    }
   ],
   "source": [
    "plt.figure(figsize=(10,10))\n",
    "fi_new.plot.pie(ylabel='')"
   ]
  },
  {
   "cell_type": "code",
   "execution_count": null,
   "id": "unnecessary-sucking",
   "metadata": {},
   "outputs": [],
   "source": [
    "fig, ax = plt.subplots()  # Create a figure and an axes.\n",
    "# ax.set_xlabel('x label')  # Add an x-label to the axes.\n",
    "# ax.set_ylabel('y label')  # Add a y-label to the axes.\n",
    "ax.set_title(\"Feature importance of random classifier model\")  # Add a title to the axes.\n",
    "# ax.legend()  # Add a legend.\n",
    "\n",
    "fi_new.sort_values(ascending=False).plot.pie()"
   ]
  }
 ],
 "metadata": {
  "kernelspec": {
   "display_name": "Python 3",
   "language": "python",
   "name": "python3"
  },
  "language_info": {
   "codemirror_mode": {
    "name": "ipython",
    "version": 3
   },
   "file_extension": ".py",
   "mimetype": "text/x-python",
   "name": "python",
   "nbconvert_exporter": "python",
   "pygments_lexer": "ipython3",
   "version": "3.9.1"
  }
 },
 "nbformat": 4,
 "nbformat_minor": 5
}
