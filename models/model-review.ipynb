{
 "cells": [
  {
   "cell_type": "code",
   "execution_count": 118,
   "id": "statistical-temple",
   "metadata": {},
   "outputs": [],
   "source": [
    "import pickle\n",
    "import pandas as pd\n",
    "from sqlalchemy import create_engine\n",
    "from sklearn.ensemble import RandomForestClassifier\n",
    "\n",
    "from emissions_transformer import EmissionsTransformer\n",
    "\n",
    "import matplotlib.pyplot as plt\n",
    "%matplotlib inline"
   ]
  },
  {
   "cell_type": "code",
   "execution_count": 42,
   "id": "instant-talent",
   "metadata": {},
   "outputs": [],
   "source": [
    "def load_data(database_filepath):\n",
    "    \"\"\"Loads the data from a database file and returns the target.\"\"\"\n",
    "\n",
    "    engine = create_engine(f'sqlite:///{database_filepath}')\n",
    "    df = pd.read_sql_table('emissions', engine)\n",
    "\n",
    "    return df"
   ]
  },
  {
   "cell_type": "code",
   "execution_count": 43,
   "id": "grand-slope",
   "metadata": {},
   "outputs": [],
   "source": [
    "df = load_data('../data/emissions.db')"
   ]
  },
  {
   "cell_type": "code",
   "execution_count": 44,
   "id": "statewide-produce",
   "metadata": {},
   "outputs": [],
   "source": [
    "def split_data(df):\n",
    "\n",
    "\n",
    "    df_pop = df.dropna(subset=['tax_band'])\n",
    "    X_pop = df_pop.drop(columns='tax_band')\n",
    "    y_pop = df_pop['tax_band']\n",
    "\n",
    "    df_nan = df[df['tax_band'].isnull()]\n",
    "    X_nan = df_nan.drop(columns='tax_band')\n",
    "\n",
    "    return X_pop, y_pop, X_nan"
   ]
  },
  {
   "cell_type": "code",
   "execution_count": 45,
   "id": "permanent-commerce",
   "metadata": {},
   "outputs": [],
   "source": [
    "X_pop, y_pop, X_nan = split_data(df)"
   ]
  },
  {
   "cell_type": "code",
   "execution_count": 46,
   "id": "infrared-thanksgiving",
   "metadata": {},
   "outputs": [],
   "source": [
    "def load_model(filepath):\n",
    "    with open(filepath, 'rb') as file:\n",
    "        model = pickle.load(file)\n",
    "        \n",
    "    return model"
   ]
  },
  {
   "cell_type": "code",
   "execution_count": 47,
   "id": "introductory-favor",
   "metadata": {},
   "outputs": [],
   "source": [
    "model = load_model('./classifier.pkl')"
   ]
  },
  {
   "cell_type": "code",
   "execution_count": 48,
   "id": "latter-fountain",
   "metadata": {},
   "outputs": [
    {
     "data": {
      "text/plain": [
       "{'clf__criterion': 'entropy'}"
      ]
     },
     "execution_count": 48,
     "metadata": {},
     "output_type": "execute_result"
    }
   ],
   "source": [
    "model.best_params_"
   ]
  },
  {
   "cell_type": "code",
   "execution_count": 49,
   "id": "technological-river",
   "metadata": {},
   "outputs": [],
   "source": [
    "tf = EmissionsTransformer()\n",
    "X_tf = tf.transform(X_pop)"
   ]
  },
  {
   "cell_type": "code",
   "execution_count": 51,
   "id": "norman-prior",
   "metadata": {},
   "outputs": [
    {
     "data": {
      "text/plain": [
       "RandomForestClassifier(criterion='entropy')"
      ]
     },
     "execution_count": 51,
     "metadata": {},
     "output_type": "execute_result"
    }
   ],
   "source": [
    "clf = RandomForestClassifier(criterion=\"entropy\")\n",
    "clf.fit(X_tf, y_pop)"
   ]
  },
  {
   "cell_type": "code",
   "execution_count": 52,
   "id": "annoying-guyana",
   "metadata": {},
   "outputs": [
    {
     "data": {
      "text/plain": [
       "array([1.96723598e-03, 1.48413367e-03, 6.27638717e-02, 2.16725806e-01,\n",
       "       1.51050678e-02, 3.04979034e-01, 1.32212465e-02, 2.08433750e-02,\n",
       "       3.26039618e-02, 1.03265870e-02, 2.25409504e-01, 1.53643882e-04,\n",
       "       5.01347325e-04, 1.11938800e-03, 2.87157721e-03, 4.12386808e-04,\n",
       "       8.56844960e-04, 8.41252028e-04, 3.51935334e-04, 1.40303475e-03,\n",
       "       1.13810262e-03, 5.66021323e-04, 1.28154671e-04, 1.19408789e-03,\n",
       "       3.27089855e-04, 1.98342802e-04, 4.31534413e-04, 2.90754486e-03,\n",
       "       3.66149183e-04, 6.02746039e-04, 5.13226190e-04, 2.55663998e-03,\n",
       "       1.05943281e-03, 2.26812366e-03, 9.42764313e-04, 3.22032996e-04,\n",
       "       8.96353115e-04, 6.29890932e-04, 5.52968702e-04, 4.41177312e-04,\n",
       "       8.03635721e-04, 1.54111792e-03, 2.92232867e-03, 1.81155054e-03,\n",
       "       5.69244016e-04, 5.75669475e-04, 7.07049232e-04, 8.65728116e-04,\n",
       "       3.32190117e-04, 2.12978578e-03, 3.19500175e-03, 2.30646954e-03,\n",
       "       1.79329909e-03, 2.95709284e-04, 3.91892627e-04, 4.30897746e-04,\n",
       "       1.04914613e-03, 1.36562236e-03, 3.77761282e-04, 5.35982326e-03,\n",
       "       4.14563823e-03, 1.65349560e-03, 3.03559878e-04, 6.58040814e-05,\n",
       "       9.10609566e-04, 9.33899815e-04, 4.97130610e-03, 4.10069677e-03,\n",
       "       1.05658617e-02, 9.74789206e-04, 9.66144583e-03, 9.05352464e-04])"
      ]
     },
     "execution_count": 52,
     "metadata": {},
     "output_type": "execute_result"
    }
   ],
   "source": [
    "clf.feature_importances_"
   ]
  },
  {
   "cell_type": "code",
   "execution_count": 55,
   "id": "varying-halloween",
   "metadata": {},
   "outputs": [
    {
     "data": {
      "text/plain": [
       "((7837, 72), 72)"
      ]
     },
     "execution_count": 55,
     "metadata": {},
     "output_type": "execute_result"
    }
   ],
   "source": [
    "X_tf.shape, len(clf.feature_importances_)\n"
   ]
  },
  {
   "cell_type": "code",
   "execution_count": 102,
   "id": "greenhouse-vintage",
   "metadata": {},
   "outputs": [],
   "source": [
    "fi = pd.Series(data=clf.feature_importances_, index=X_tf.columns)"
   ]
  },
  {
   "cell_type": "code",
   "execution_count": 103,
   "id": "automated-string",
   "metadata": {},
   "outputs": [
    {
     "data": {
      "text/plain": [
       "co2                       0.304979\n",
       "fuel_cost_12000_miles     0.225410\n",
       "combined_metric           0.216726\n",
       "engine_capacity           0.062764\n",
       "nox_emissions             0.032604\n",
       "co_emissions              0.020843\n",
       "noise_level               0.015105\n",
       "thc_emissions             0.013221\n",
       "fuel_type_Diesel          0.010566\n",
       "particulates_emissions    0.010327\n",
       "dtype: float64"
      ]
     },
     "execution_count": 103,
     "metadata": {},
     "output_type": "execute_result"
    }
   ],
   "source": [
    "fi.sort_values(ascending=False).head(10)"
   ]
  },
  {
   "cell_type": "code",
   "execution_count": 104,
   "id": "electronic-delivery",
   "metadata": {},
   "outputs": [
    {
     "data": {
      "text/plain": [
       "1.0"
      ]
     },
     "execution_count": 104,
     "metadata": {},
     "output_type": "execute_result"
    }
   ],
   "source": [
    "fi.sum()"
   ]
  },
  {
   "cell_type": "code",
   "execution_count": 105,
   "id": "center-museum",
   "metadata": {},
   "outputs": [
    {
     "data": {
      "text/plain": [
       "0.033632426807453174"
      ]
     },
     "execution_count": 105,
     "metadata": {},
     "output_type": "execute_result"
    }
   ],
   "source": [
    "mf_index = [x for x in fi.index.values if 'manufacturer' in x]\n",
    "fi[mf_index].sum()"
   ]
  },
  {
   "cell_type": "code",
   "execution_count": 106,
   "id": "european-banner",
   "metadata": {},
   "outputs": [
    {
     "data": {
      "text/plain": [
       "0.02210744923294577"
      ]
     },
     "execution_count": 106,
     "metadata": {},
     "output_type": "execute_result"
    }
   ],
   "source": [
    "ft_index = [x for x in fi.index.values if 'fuel_type' in x]\n",
    "fi[ft_index].sum()"
   ]
  },
  {
   "cell_type": "code",
   "execution_count": 107,
   "id": "occasional-cattle",
   "metadata": {},
   "outputs": [
    {
     "data": {
      "text/plain": [
       "0.02975829698713395"
      ]
     },
     "execution_count": 107,
     "metadata": {},
     "output_type": "execute_result"
    }
   ],
   "source": [
    "tm_index = [x for x in fi.index.values if 'transmission' in x and 'transmission_type' not in x]\n",
    "fi[tm_index].sum()"
   ]
  },
  {
   "cell_type": "code",
   "execution_count": 108,
   "id": "enhanced-filename",
   "metadata": {},
   "outputs": [
    {
     "data": {
      "text/plain": [
       "0.009072002875581166"
      ]
     },
     "execution_count": 108,
     "metadata": {},
     "output_type": "execute_result"
    }
   ],
   "source": [
    "tmt_index = [x for x in fi.index.values if 'transmission_type' in x]\n",
    "fi[tmt_index].sum()"
   ]
  },
  {
   "cell_type": "code",
   "execution_count": 109,
   "id": "institutional-discovery",
   "metadata": {},
   "outputs": [],
   "source": [
    "fi_new = fi.copy()\n",
    "fi_new.drop(labels=mf_index, inplace=True)\n",
    "fi_new.drop(labels=ft_index, inplace=True)\n",
    "fi_new.drop(labels=tm_index, inplace=True)\n",
    "fi_new.drop(labels=tmt_index, inplace=True)\n",
    "fi_new['manufacturer'] = fi[mf_index].sum()\n",
    "fi_new['fuel_type'] = fi[ft_index].sum()\n",
    "fi_new['transmission'] = fi[tm_index].sum()\n",
    "fi_new['transmission_type'] = fi[tmt_index].sum()\n"
   ]
  },
  {
   "cell_type": "code",
   "execution_count": 110,
   "id": "criminal-spanking",
   "metadata": {},
   "outputs": [
    {
     "data": {
      "text/plain": [
       "year                      0.001967\n",
       "euro_standard             0.001484\n",
       "engine_capacity           0.062764\n",
       "combined_metric           0.216726\n",
       "noise_level               0.015105\n",
       "co2                       0.304979\n",
       "thc_emissions             0.013221\n",
       "co_emissions              0.020843\n",
       "nox_emissions             0.032604\n",
       "particulates_emissions    0.010327\n",
       "fuel_cost_12000_miles     0.225410\n",
       "manufacturer              0.033632\n",
       "fuel_type                 0.022107\n",
       "transmission              0.029758\n",
       "transmission_type         0.009072\n",
       "dtype: float64"
      ]
     },
     "execution_count": 110,
     "metadata": {},
     "output_type": "execute_result"
    }
   ],
   "source": [
    "fi_new"
   ]
  },
  {
   "cell_type": "code",
   "execution_count": 111,
   "id": "improved-teach",
   "metadata": {},
   "outputs": [
    {
     "data": {
      "text/plain": [
       "1.0"
      ]
     },
     "execution_count": 111,
     "metadata": {},
     "output_type": "execute_result"
    }
   ],
   "source": [
    "fi_new.sum()"
   ]
  },
  {
   "cell_type": "code",
   "execution_count": 113,
   "id": "fifth-feeding",
   "metadata": {},
   "outputs": [
    {
     "data": {
      "text/plain": [
       "co2                       0.304979\n",
       "fuel_cost_12000_miles     0.225410\n",
       "combined_metric           0.216726\n",
       "engine_capacity           0.062764\n",
       "manufacturer              0.033632\n",
       "nox_emissions             0.032604\n",
       "transmission              0.029758\n",
       "fuel_type                 0.022107\n",
       "co_emissions              0.020843\n",
       "noise_level               0.015105\n",
       "thc_emissions             0.013221\n",
       "particulates_emissions    0.010327\n",
       "transmission_type         0.009072\n",
       "year                      0.001967\n",
       "euro_standard             0.001484\n",
       "dtype: float64"
      ]
     },
     "execution_count": 113,
     "metadata": {},
     "output_type": "execute_result"
    }
   ],
   "source": [
    "fi_new.sort_values(ascending=False)"
   ]
  },
  {
   "cell_type": "code",
   "execution_count": 119,
   "id": "elegant-mobile",
   "metadata": {},
   "outputs": [
    {
     "data": {
      "text/plain": [
       "<AxesSubplot:ylabel='None'>"
      ]
     },
     "execution_count": 119,
     "metadata": {},
     "output_type": "execute_result"
    },
    {
     "data": {
      "image/png": "[encoded data removed]",
      "text/plain": [
       "<Figure size 720x720 with 1 Axes>"
      ]
     },
     "metadata": {},
     "output_type": "display_data"
    }
   ],
   "source": [
    "plt.figure(figsize=(10,10)) \n",
    "fi_new.sort_values(ascending=False).plot.pie()"
   ]
  },
  {
   "cell_type": "code",
   "execution_count": null,
   "id": "unnecessary-sucking",
   "metadata": {},
   "outputs": [],
   "source": []
  }
 ],
 "metadata": {
  "kernelspec": {
   "display_name": "Python 3",
   "language": "python",
   "name": "python3"
  },
  "language_info": {
   "codemirror_mode": {
    "name": "ipython",
    "version": 3
   },
   "file_extension": ".py",
   "mimetype": "text/x-python",
   "name": "python",
   "nbconvert_exporter": "python",
   "pygments_lexer": "ipython3",
   "version": "3.9.1"
  }
 },
 "nbformat": 4,
 "nbformat_minor": 5
}
