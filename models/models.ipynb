{
 "cells": [
  {
   "cell_type": "code",
   "execution_count": 1,
   "metadata": {},
   "outputs": [],
   "source": [
    "import pickle\n",
    "import pandas as pd\n",
    "from sqlalchemy import create_engine\n",
    "\n",
    "from sklearn.pipeline import Pipeline\n",
    "from sklearn.metrics import classification_report\n",
    "from sklearn.model_selection import train_test_split, GridSearchCV\n",
    "from sklearn.ensemble import RandomForestClassifier\n",
    "from sklearn.base import BaseEstimator, TransformerMixin"
   ]
  },
  {
   "cell_type": "code",
   "execution_count": 62,
   "metadata": {},
   "outputs": [],
   "source": [
    "def load_data(database_filepath):\n",
    "    \"\"\"Loads the data from a database file and returns the target.\"\"\"\n",
    "\n",
    "    engine = create_engine(f'sqlite:///{database_filepath}')\n",
    "    df = pd.read_sql_table('emissions', engine)\n",
    "\n",
    "    return df"
   ]
  },
  {
   "cell_type": "code",
   "execution_count": null,
   "metadata": {},
   "outputs": [],
   "source": []
  },
  {
   "cell_type": "code",
   "execution_count": 57,
   "metadata": {},
   "outputs": [
    {
     "data": {
      "text/plain": [
       "((7837, 28), (7837,), (37674, 28))"
      ]
     },
     "execution_count": 57,
     "metadata": {},
     "output_type": "execute_result"
    }
   ],
   "source": [
    "X, y, X_unlabelled = load_data('../data/emissions.db')\n",
    "X.shape, y.shape, X_unlabelled.shape"
   ]
  },
  {
   "cell_type": "code",
   "execution_count": 49,
   "metadata": {},
   "outputs": [
    {
     "data": {
      "text/plain": [
       "year                      7837\n",
       "manufacturer              7837\n",
       "model                     7837\n",
       "description               7837\n",
       "euro_standard             7837\n",
       "transmission              7827\n",
       "transmission_type         7496\n",
       "engine_capacity           7830\n",
       "fuel_type                 7837\n",
       "urban_metric              7824\n",
       "extra_urban_metric        7824\n",
       "combined_metric           7830\n",
       "urban_imperial            7824\n",
       "extra_urban_imperial      7824\n",
       "combined_imperial         7830\n",
       "noise_level               7837\n",
       "co2                       7837\n",
       "thc_emissions             3845\n",
       "co_emissions              7830\n",
       "nox_emissions             7830\n",
       "thc_nox_emissions         3990\n",
       "particulates_emissions    3667\n",
       "fuel_cost_12000_miles     7833\n",
       "fuel_cost_6000_miles         0\n",
       "standard_12_months        3517\n",
       "standard_6_months         2926\n",
       "first_year_12_months      3517\n",
       "first_year_6_months       1419\n",
       "dtype: int64"
      ]
     },
     "execution_count": 49,
     "metadata": {},
     "output_type": "execute_result"
    }
   ],
   "source": [
    "X.count()"
   ]
  },
  {
   "cell_type": "code",
   "execution_count": 59,
   "metadata": {},
   "outputs": [],
   "source": [
    "class EmissionsTransformer(BaseEstimator, TransformerMixin):\n",
    "    \"\"\"\n",
    "    Adds dummies to categorical columns and removes the original ones\n",
    "    \"\"\"\n",
    "    \n",
    "    def drop_columns(self, X):\n",
    "        \"\"\"\n",
    "        Dropping model and description as they would create too many dummies.\n",
    "        Dropping fuel_cost_6000_miles as it contains only empty values.\n",
    "        \"\"\"\n",
    "        \n",
    "        X = X.drop(['model', 'description', 'fuel_cost_6000_miles'], axis=1)\n",
    "        return X\n",
    "    \n",
    "    def fill_columns(self, X):\n",
    "        numeric_columns = X.select_dtypes(exclude=['object']).columns\n",
    "        X[numeric_columns] = X[numeric_columns].fillna(X.mean())\n",
    "        return X\n",
    "\n",
    "    def add_dummies(self, X):\n",
    "        mf = pd.get_dummies(X['manufacturer'], prefix='manufacturer')\n",
    "        tm = pd.get_dummies(X['transmission'], prefix='transmission')\n",
    "        tmt = pd.get_dummies(X['transmission_type'], prefix='transmission_type')\n",
    "        ft = pd.get_dummies(X['fuel_type'], prefix='fuel_type')\n",
    "        \n",
    "        X = pd.concat([X, mf, tm, tmt, ft], axis=1)\n",
    "        X = X.drop(['manufacturer', 'transmission', 'transmission_type', 'fuel_type'], axis=1)\n",
    "        return X\n",
    "    \n",
    "    def fit(self, X, y=None):\n",
    "        return self\n",
    "\n",
    "    def transform(self, X):\n",
    "        X = self.drop_columns(X)\n",
    "        X = self.fill_columns(X)\n",
    "#         X = self.add_dummies(X)\n",
    "        return X\n",
    "\n",
    "    def preprocess(self, df):\n",
    "        df = self.add_dummies(df)\n",
    "        return df"
   ]
  },
  {
   "cell_type": "code",
   "execution_count": 66,
   "metadata": {},
   "outputs": [],
   "source": [
    "def split_data(df):\n",
    "    df_pop = df.dropna(subset=['tax_band'])\n",
    "    df_nan = df[df['tax_band'].isnull()]\n",
    "\n",
    "    X = df_pop.drop(columns='tax_band')\n",
    "    y = df_pop['tax_band']\n",
    "    X_nan = df_nan.drop(columns='tax_band')\n",
    "\n",
    "    return X, y, X_nan"
   ]
  },
  {
   "cell_type": "code",
   "execution_count": null,
   "metadata": {},
   "outputs": [],
   "source": [
    "df = load_data('../data/emissions.db')\n",
    "transformer = EmissionsTransformer()\n",
    "df_preprocessed = transformer.preprocess(df)\n",
    "X, y, X_nan = split_data(df_preprocessed)\n",
    "\n"
   ]
  },
  {
   "cell_type": "code",
   "execution_count": 7,
   "metadata": {},
   "outputs": [
    {
     "data": {
      "text/html": [
       "<div>\n",
       "<style scoped>\n",
       "    .dataframe tbody tr th:only-of-type {\n",
       "        vertical-align: middle;\n",
       "    }\n",
       "\n",
       "    .dataframe tbody tr th {\n",
       "        vertical-align: top;\n",
       "    }\n",
       "\n",
       "    .dataframe thead th {\n",
       "        text-align: right;\n",
       "    }\n",
       "</style>\n",
       "<table border=\"1\" class=\"dataframe\">\n",
       "  <thead>\n",
       "    <tr style=\"text-align: right;\">\n",
       "      <th></th>\n",
       "      <th>year</th>\n",
       "      <th>model</th>\n",
       "      <th>description</th>\n",
       "      <th>euro_standard</th>\n",
       "      <th>engine_capacity</th>\n",
       "      <th>urban_metric</th>\n",
       "      <th>extra_urban_metric</th>\n",
       "      <th>combined_metric</th>\n",
       "      <th>urban_imperial</th>\n",
       "      <th>extra_urban_imperial</th>\n",
       "      <th>...</th>\n",
       "      <th>fuel_type_CNG</th>\n",
       "      <th>fuel_type_Diesel</th>\n",
       "      <th>fuel_type_Diesel Electric</th>\n",
       "      <th>fuel_type_Electricity</th>\n",
       "      <th>fuel_type_Electricity/Diesel</th>\n",
       "      <th>fuel_type_Electricity/Petrol</th>\n",
       "      <th>fuel_type_Petrol</th>\n",
       "      <th>fuel_type_Petrol / E85 (Flex Fuel)</th>\n",
       "      <th>fuel_type_Petrol Electric</th>\n",
       "      <th>fuel_type_Petrol Hybrid</th>\n",
       "    </tr>\n",
       "  </thead>\n",
       "  <tbody>\n",
       "    <tr>\n",
       "      <th>37674</th>\n",
       "      <td>2012</td>\n",
       "      <td>500</td>\n",
       "      <td>500 and 500C</td>\n",
       "      <td>5</td>\n",
       "      <td>1368.0</td>\n",
       "      <td>8.5</td>\n",
       "      <td>5.4</td>\n",
       "      <td>6.5</td>\n",
       "      <td>33.2</td>\n",
       "      <td>52.3</td>\n",
       "      <td>...</td>\n",
       "      <td>0</td>\n",
       "      <td>0</td>\n",
       "      <td>0</td>\n",
       "      <td>0</td>\n",
       "      <td>0</td>\n",
       "      <td>0</td>\n",
       "      <td>1</td>\n",
       "      <td>0</td>\n",
       "      <td>0</td>\n",
       "      <td>0</td>\n",
       "    </tr>\n",
       "    <tr>\n",
       "      <th>37675</th>\n",
       "      <td>2012</td>\n",
       "      <td>500</td>\n",
       "      <td>500 and 500C</td>\n",
       "      <td>5</td>\n",
       "      <td>1368.0</td>\n",
       "      <td>8.4</td>\n",
       "      <td>5.4</td>\n",
       "      <td>6.5</td>\n",
       "      <td>33.6</td>\n",
       "      <td>52.3</td>\n",
       "      <td>...</td>\n",
       "      <td>0</td>\n",
       "      <td>0</td>\n",
       "      <td>0</td>\n",
       "      <td>0</td>\n",
       "      <td>0</td>\n",
       "      <td>0</td>\n",
       "      <td>1</td>\n",
       "      <td>0</td>\n",
       "      <td>0</td>\n",
       "      <td>0</td>\n",
       "    </tr>\n",
       "    <tr>\n",
       "      <th>37676</th>\n",
       "      <td>2012</td>\n",
       "      <td>500</td>\n",
       "      <td>595 and 595C</td>\n",
       "      <td>5</td>\n",
       "      <td>1368.0</td>\n",
       "      <td>8.4</td>\n",
       "      <td>5.4</td>\n",
       "      <td>6.5</td>\n",
       "      <td>33.6</td>\n",
       "      <td>52.3</td>\n",
       "      <td>...</td>\n",
       "      <td>0</td>\n",
       "      <td>0</td>\n",
       "      <td>0</td>\n",
       "      <td>0</td>\n",
       "      <td>0</td>\n",
       "      <td>0</td>\n",
       "      <td>1</td>\n",
       "      <td>0</td>\n",
       "      <td>0</td>\n",
       "      <td>0</td>\n",
       "    </tr>\n",
       "    <tr>\n",
       "      <th>37677</th>\n",
       "      <td>2012</td>\n",
       "      <td>500</td>\n",
       "      <td>595 and 595C</td>\n",
       "      <td>5</td>\n",
       "      <td>1368.0</td>\n",
       "      <td>8.5</td>\n",
       "      <td>5.4</td>\n",
       "      <td>6.5</td>\n",
       "      <td>33.2</td>\n",
       "      <td>52.3</td>\n",
       "      <td>...</td>\n",
       "      <td>0</td>\n",
       "      <td>0</td>\n",
       "      <td>0</td>\n",
       "      <td>0</td>\n",
       "      <td>0</td>\n",
       "      <td>0</td>\n",
       "      <td>1</td>\n",
       "      <td>0</td>\n",
       "      <td>0</td>\n",
       "      <td>0</td>\n",
       "    </tr>\n",
       "    <tr>\n",
       "      <th>37678</th>\n",
       "      <td>2012</td>\n",
       "      <td>Punto Evo</td>\n",
       "      <td>1.4 16v Turbo MultiAir 165</td>\n",
       "      <td>5</td>\n",
       "      <td>1368.0</td>\n",
       "      <td>8.0</td>\n",
       "      <td>5.0</td>\n",
       "      <td>6.1</td>\n",
       "      <td>35.3</td>\n",
       "      <td>56.5</td>\n",
       "      <td>...</td>\n",
       "      <td>0</td>\n",
       "      <td>0</td>\n",
       "      <td>0</td>\n",
       "      <td>0</td>\n",
       "      <td>0</td>\n",
       "      <td>0</td>\n",
       "      <td>1</td>\n",
       "      <td>0</td>\n",
       "      <td>0</td>\n",
       "      <td>0</td>\n",
       "    </tr>\n",
       "  </tbody>\n",
       "</table>\n",
       "<p>5 rows × 131 columns</p>\n",
       "</div>"
      ],
      "text/plain": [
       "       year      model                 description  euro_standard  \\\n",
       "37674  2012        500                500 and 500C              5   \n",
       "37675  2012        500                500 and 500C              5   \n",
       "37676  2012        500                595 and 595C              5   \n",
       "37677  2012        500                595 and 595C              5   \n",
       "37678  2012  Punto Evo  1.4 16v Turbo MultiAir 165              5   \n",
       "\n",
       "       engine_capacity  urban_metric  extra_urban_metric  combined_metric  \\\n",
       "37674           1368.0           8.5                 5.4              6.5   \n",
       "37675           1368.0           8.4                 5.4              6.5   \n",
       "37676           1368.0           8.4                 5.4              6.5   \n",
       "37677           1368.0           8.5                 5.4              6.5   \n",
       "37678           1368.0           8.0                 5.0              6.1   \n",
       "\n",
       "       urban_imperial  extra_urban_imperial  ...  fuel_type_CNG  \\\n",
       "37674            33.2                  52.3  ...              0   \n",
       "37675            33.6                  52.3  ...              0   \n",
       "37676            33.6                  52.3  ...              0   \n",
       "37677            33.2                  52.3  ...              0   \n",
       "37678            35.3                  56.5  ...              0   \n",
       "\n",
       "       fuel_type_Diesel  fuel_type_Diesel Electric  fuel_type_Electricity  \\\n",
       "37674                 0                          0                      0   \n",
       "37675                 0                          0                      0   \n",
       "37676                 0                          0                      0   \n",
       "37677                 0                          0                      0   \n",
       "37678                 0                          0                      0   \n",
       "\n",
       "       fuel_type_Electricity/Diesel  fuel_type_Electricity/Petrol  \\\n",
       "37674                             0                             0   \n",
       "37675                             0                             0   \n",
       "37676                             0                             0   \n",
       "37677                             0                             0   \n",
       "37678                             0                             0   \n",
       "\n",
       "       fuel_type_Petrol  fuel_type_Petrol / E85 (Flex Fuel)  \\\n",
       "37674                 1                                   0   \n",
       "37675                 1                                   0   \n",
       "37676                 1                                   0   \n",
       "37677                 1                                   0   \n",
       "37678                 1                                   0   \n",
       "\n",
       "       fuel_type_Petrol Electric  fuel_type_Petrol Hybrid  \n",
       "37674                          0                        0  \n",
       "37675                          0                        0  \n",
       "37676                          0                        0  \n",
       "37677                          0                        0  \n",
       "37678                          0                        0  \n",
       "\n",
       "[5 rows x 131 columns]"
      ]
     },
     "execution_count": 7,
     "metadata": {},
     "output_type": "execute_result"
    }
   ],
   "source": [
    "transformer = EmissionsTransformer()\n",
    "X_with_dummies = transformer.add_dummies(X)\n",
    "X_with_dummies.head()"
   ]
  },
  {
   "cell_type": "code",
   "execution_count": 45,
   "metadata": {},
   "outputs": [],
   "source": [
    "def build_model():\n",
    "    \"\"\"Describes the model used on the data, consisting of NLP transformers and\n",
    "    an individual classifier of each category.\"\"\"\n",
    "\n",
    "    pipeline = Pipeline([\n",
    "        ('et', EmissionsTransformer()),\n",
    "        ('clf', RandomForestClassifier()),\n",
    "    ])\n",
    "\n",
    "    parameters = {\n",
    "        'clf__criterion': ['gini', 'entropy'],\n",
    "    }\n",
    "\n",
    "    model = GridSearchCV(pipeline, param_grid=parameters)\n",
    "\n",
    "    return model"
   ]
  },
  {
   "cell_type": "code",
   "execution_count": 46,
   "metadata": {},
   "outputs": [
    {
     "data": {
      "text/plain": [
       "{'cv': None,\n",
       " 'error_score': nan,\n",
       " 'estimator__memory': None,\n",
       " 'estimator__steps': [('et', EmissionsTransformer()),\n",
       "  ('clf', RandomForestClassifier())],\n",
       " 'estimator__verbose': False,\n",
       " 'estimator__et': EmissionsTransformer(),\n",
       " 'estimator__clf': RandomForestClassifier(),\n",
       " 'estimator__clf__bootstrap': True,\n",
       " 'estimator__clf__ccp_alpha': 0.0,\n",
       " 'estimator__clf__class_weight': None,\n",
       " 'estimator__clf__criterion': 'gini',\n",
       " 'estimator__clf__max_depth': None,\n",
       " 'estimator__clf__max_features': 'auto',\n",
       " 'estimator__clf__max_leaf_nodes': None,\n",
       " 'estimator__clf__max_samples': None,\n",
       " 'estimator__clf__min_impurity_decrease': 0.0,\n",
       " 'estimator__clf__min_impurity_split': None,\n",
       " 'estimator__clf__min_samples_leaf': 1,\n",
       " 'estimator__clf__min_samples_split': 2,\n",
       " 'estimator__clf__min_weight_fraction_leaf': 0.0,\n",
       " 'estimator__clf__n_estimators': 100,\n",
       " 'estimator__clf__n_jobs': None,\n",
       " 'estimator__clf__oob_score': False,\n",
       " 'estimator__clf__random_state': None,\n",
       " 'estimator__clf__verbose': 0,\n",
       " 'estimator__clf__warm_start': False,\n",
       " 'estimator': Pipeline(steps=[('et', EmissionsTransformer()),\n",
       "                 ('clf', RandomForestClassifier())]),\n",
       " 'n_jobs': None,\n",
       " 'param_grid': {'clf__criterion': ['gini', 'entropy']},\n",
       " 'pre_dispatch': '2*n_jobs',\n",
       " 'refit': True,\n",
       " 'return_train_score': False,\n",
       " 'scoring': None,\n",
       " 'verbose': 0}"
      ]
     },
     "execution_count": 46,
     "metadata": {},
     "output_type": "execute_result"
    }
   ],
   "source": [
    "model.get_params()"
   ]
  },
  {
   "cell_type": "code",
   "execution_count": 47,
   "metadata": {},
   "outputs": [],
   "source": [
    "def evaluate_model(model, X_test, y_test):\n",
    "    \"\"\"Shows the accuracy, precision, and recall of the model.\"\"\"\n",
    "\n",
    "    y_pred = model.predict(X_test)\n",
    "    print(classification_report(y_test, y_pred))\n",
    "    print(model.best_params_)"
   ]
  },
  {
   "cell_type": "code",
   "execution_count": 48,
   "metadata": {},
   "outputs": [],
   "source": [
    "def save_model(model, model_filepath):\n",
    "    \"\"\"Saves the model as a pickle file\"\"\"\n",
    "\n",
    "    with open(model_filepath, 'wb') as file:\n",
    "        pickle.dump(model, file)"
   ]
  },
  {
   "cell_type": "code",
   "execution_count": 67,
   "metadata": {},
   "outputs": [
    {
     "name": "stdout",
     "output_type": "stream",
     "text": [
      "Building model...\n",
      "Training model...\n",
      "Evaluating model...\n",
      "              precision    recall  f1-score   support\n",
      "\n",
      "           A       0.98      1.00      0.99        61\n",
      "           B       1.00      0.97      0.99        74\n",
      "           C       0.97      1.00      0.98       157\n",
      "           D       1.00      0.98      0.99       197\n",
      "           E       1.00      1.00      1.00       222\n",
      "           F       0.99      0.99      0.99       178\n",
      "           G       1.00      1.00      1.00       223\n",
      "           H       0.98      0.98      0.98       108\n",
      "           I       0.98      0.96      0.97        67\n",
      "           J       1.00      1.00      1.00       100\n",
      "           K       0.97      0.99      0.98        69\n",
      "           L       0.98      0.98      0.98        43\n",
      "           M       1.00      1.00      1.00        69\n",
      "\n",
      "    accuracy                           0.99      1568\n",
      "   macro avg       0.99      0.99      0.99      1568\n",
      "weighted avg       0.99      0.99      0.99      1568\n",
      "\n",
      "{'clf__criterion': 'gini'}\n",
      "Saving model...\n",
      "    MODEL: classifier.pkl\n",
      "Trained model saved!\n"
     ]
    }
   ],
   "source": [
    "database_filepath = '../data/emissions.db'\n",
    "model_filepath = 'classifier.pkl'\n",
    "\n",
    "df = load_data('../data/emissions.db')\n",
    "transformer = EmissionsTransformer()\n",
    "df_preprocessed = transformer.preprocess(df)\n",
    "X, y, X_nan = split_data(df_preprocessed)\n",
    "\n",
    "X_train, X_test, y_train, y_test = train_test_split(X, y, test_size=0.2)\n",
    "\n",
    "print('Building model...')\n",
    "model = build_model()\n",
    "\n",
    "print('Training model...')\n",
    "model.fit(X_train, y_train)\n",
    "\n",
    "print('Evaluating model...')\n",
    "evaluate_model(model, X_test, y_test)\n",
    "\n",
    "print('Saving model...\\n    MODEL: {}'.format(model_filepath))\n",
    "save_model(model, model_filepath)\n",
    "\n",
    "print('Trained model saved!')"
   ]
  },
  {
   "cell_type": "code",
   "execution_count": 58,
   "metadata": {},
   "outputs": [
    {
     "data": {
      "text/plain": [
       "(37674, 28)"
      ]
     },
     "execution_count": 58,
     "metadata": {},
     "output_type": "execute_result"
    }
   ],
   "source": [
    "X_nan_pop.shape"
   ]
  },
  {
   "cell_type": "code",
   "execution_count": 92,
   "metadata": {},
   "outputs": [
    {
     "data": {
      "text/plain": [
       "(45511, 193)"
      ]
     },
     "execution_count": 92,
     "metadata": {},
     "output_type": "execute_result"
    }
   ],
   "source": [
    "df_transformed = transformer.preprocess(df)\n",
    "df_transformed.shape"
   ]
  },
  {
   "cell_type": "code",
   "execution_count": 93,
   "metadata": {},
   "outputs": [
    {
     "data": {
      "text/plain": [
       "(45511, 193)"
      ]
     },
     "execution_count": 93,
     "metadata": {},
     "output_type": "execute_result"
    }
   ],
   "source": [
    "df_transformed = transformer.fill_columns(df_transformed)\n",
    "df_transformed.shape"
   ]
  },
  {
   "cell_type": "code",
   "execution_count": 94,
   "metadata": {},
   "outputs": [
    {
     "data": {
      "text/plain": [
       "(37674, 193)"
      ]
     },
     "execution_count": 94,
     "metadata": {},
     "output_type": "execute_result"
    }
   ],
   "source": [
    "df_transformed = df_transformed[df_transformed['tax_band'].isnull()]\n",
    "df_transformed.shape"
   ]
  },
  {
   "cell_type": "code",
   "execution_count": 95,
   "metadata": {},
   "outputs": [
    {
     "data": {
      "text/plain": [
       "(37674, 192)"
      ]
     },
     "execution_count": 95,
     "metadata": {},
     "output_type": "execute_result"
    }
   ],
   "source": [
    "df_transformed = df_transformed.drop(columns='tax_band')\n",
    "df_transformed.shape"
   ]
  },
  {
   "cell_type": "code",
   "execution_count": 96,
   "metadata": {},
   "outputs": [
    {
     "data": {
      "text/plain": [
       "37674"
      ]
     },
     "execution_count": 96,
     "metadata": {},
     "output_type": "execute_result"
    }
   ],
   "source": [
    "y_predicted = model.predict(df_transformed)\n",
    "len(y_predicted)"
   ]
  },
  {
   "cell_type": "code",
   "execution_count": 99,
   "metadata": {},
   "outputs": [],
   "source": [
    "df_test = df.copy()"
   ]
  },
  {
   "cell_type": "code",
   "execution_count": 100,
   "metadata": {},
   "outputs": [
    {
     "name": "stderr",
     "output_type": "stream",
     "text": [
      "<ipython-input-100-caaf815b6ca4>:1: SettingWithCopyWarning: \n",
      "A value is trying to be set on a copy of a slice from a DataFrame\n",
      "\n",
      "See the caveats in the documentation: https://pandas.pydata.org/pandas-docs/stable/user_guide/indexing.html#returning-a-view-versus-a-copy\n",
      "  df_test['tax_band'][:37674] = y_predicted\n"
     ]
    },
    {
     "data": {
      "text/html": [
       "<div>\n",
       "<style scoped>\n",
       "    .dataframe tbody tr th:only-of-type {\n",
       "        vertical-align: middle;\n",
       "    }\n",
       "\n",
       "    .dataframe tbody tr th {\n",
       "        vertical-align: top;\n",
       "    }\n",
       "\n",
       "    .dataframe thead th {\n",
       "        text-align: right;\n",
       "    }\n",
       "</style>\n",
       "<table border=\"1\" class=\"dataframe\">\n",
       "  <thead>\n",
       "    <tr style=\"text-align: right;\">\n",
       "      <th></th>\n",
       "      <th>year</th>\n",
       "      <th>manufacturer</th>\n",
       "      <th>model</th>\n",
       "      <th>description</th>\n",
       "      <th>euro_standard</th>\n",
       "      <th>tax_band</th>\n",
       "      <th>transmission</th>\n",
       "      <th>transmission_type</th>\n",
       "      <th>engine_capacity</th>\n",
       "      <th>fuel_type</th>\n",
       "      <th>...</th>\n",
       "      <th>co_emissions</th>\n",
       "      <th>nox_emissions</th>\n",
       "      <th>thc_nox_emissions</th>\n",
       "      <th>particulates_emissions</th>\n",
       "      <th>fuel_cost_12000_miles</th>\n",
       "      <th>fuel_cost_6000_miles</th>\n",
       "      <th>standard_12_months</th>\n",
       "      <th>standard_6_months</th>\n",
       "      <th>first_year_12_months</th>\n",
       "      <th>first_year_6_months</th>\n",
       "    </tr>\n",
       "  </thead>\n",
       "  <tbody>\n",
       "    <tr>\n",
       "      <th>0</th>\n",
       "      <td>2000</td>\n",
       "      <td>Alfa Romeo</td>\n",
       "      <td>145 Range</td>\n",
       "      <td>1.6 Twin Spark 16v</td>\n",
       "      <td>2</td>\n",
       "      <td>J</td>\n",
       "      <td>M5</td>\n",
       "      <td>Manual</td>\n",
       "      <td>1598.0</td>\n",
       "      <td>Petrol</td>\n",
       "      <td>...</td>\n",
       "      <td>980.0</td>\n",
       "      <td>NaN</td>\n",
       "      <td>NaN</td>\n",
       "      <td>NaN</td>\n",
       "      <td>NaN</td>\n",
       "      <td>618.0</td>\n",
       "      <td>NaN</td>\n",
       "      <td>NaN</td>\n",
       "      <td>NaN</td>\n",
       "      <td>NaN</td>\n",
       "    </tr>\n",
       "    <tr>\n",
       "      <th>1</th>\n",
       "      <td>2000</td>\n",
       "      <td>Alfa Romeo</td>\n",
       "      <td>145 Range</td>\n",
       "      <td>1.8 Twin Spark 16v</td>\n",
       "      <td>2</td>\n",
       "      <td>J</td>\n",
       "      <td>M5</td>\n",
       "      <td>Manual</td>\n",
       "      <td>1747.0</td>\n",
       "      <td>Petrol</td>\n",
       "      <td>...</td>\n",
       "      <td>1105.0</td>\n",
       "      <td>NaN</td>\n",
       "      <td>NaN</td>\n",
       "      <td>NaN</td>\n",
       "      <td>NaN</td>\n",
       "      <td>633.0</td>\n",
       "      <td>NaN</td>\n",
       "      <td>NaN</td>\n",
       "      <td>NaN</td>\n",
       "      <td>NaN</td>\n",
       "    </tr>\n",
       "    <tr>\n",
       "      <th>2</th>\n",
       "      <td>2000</td>\n",
       "      <td>Alfa Romeo</td>\n",
       "      <td>145 Range</td>\n",
       "      <td>Cloverleaf</td>\n",
       "      <td>2</td>\n",
       "      <td>K</td>\n",
       "      <td>M5</td>\n",
       "      <td>Manual</td>\n",
       "      <td>1970.0</td>\n",
       "      <td>Petrol</td>\n",
       "      <td>...</td>\n",
       "      <td>1103.0</td>\n",
       "      <td>NaN</td>\n",
       "      <td>NaN</td>\n",
       "      <td>NaN</td>\n",
       "      <td>NaN</td>\n",
       "      <td>663.0</td>\n",
       "      <td>NaN</td>\n",
       "      <td>NaN</td>\n",
       "      <td>NaN</td>\n",
       "      <td>NaN</td>\n",
       "    </tr>\n",
       "    <tr>\n",
       "      <th>3</th>\n",
       "      <td>2000</td>\n",
       "      <td>Alfa Romeo</td>\n",
       "      <td>146 Range</td>\n",
       "      <td>1.6 Twin Spark 16v</td>\n",
       "      <td>2</td>\n",
       "      <td>J</td>\n",
       "      <td>M5</td>\n",
       "      <td>Manual</td>\n",
       "      <td>1598.0</td>\n",
       "      <td>Petrol</td>\n",
       "      <td>...</td>\n",
       "      <td>980.0</td>\n",
       "      <td>NaN</td>\n",
       "      <td>NaN</td>\n",
       "      <td>NaN</td>\n",
       "      <td>NaN</td>\n",
       "      <td>626.0</td>\n",
       "      <td>NaN</td>\n",
       "      <td>NaN</td>\n",
       "      <td>NaN</td>\n",
       "      <td>NaN</td>\n",
       "    </tr>\n",
       "    <tr>\n",
       "      <th>4</th>\n",
       "      <td>2000</td>\n",
       "      <td>Alfa Romeo</td>\n",
       "      <td>146 Range</td>\n",
       "      <td>1.8 Twin Spark 16v</td>\n",
       "      <td>2</td>\n",
       "      <td>J</td>\n",
       "      <td>M5</td>\n",
       "      <td>Manual</td>\n",
       "      <td>1747.0</td>\n",
       "      <td>Petrol</td>\n",
       "      <td>...</td>\n",
       "      <td>1105.0</td>\n",
       "      <td>NaN</td>\n",
       "      <td>NaN</td>\n",
       "      <td>NaN</td>\n",
       "      <td>NaN</td>\n",
       "      <td>633.0</td>\n",
       "      <td>NaN</td>\n",
       "      <td>NaN</td>\n",
       "      <td>NaN</td>\n",
       "      <td>NaN</td>\n",
       "    </tr>\n",
       "  </tbody>\n",
       "</table>\n",
       "<p>5 rows × 29 columns</p>\n",
       "</div>"
      ],
      "text/plain": [
       "   year manufacturer      model         description  euro_standard tax_band  \\\n",
       "0  2000   Alfa Romeo  145 Range  1.6 Twin Spark 16v              2        J   \n",
       "1  2000   Alfa Romeo  145 Range  1.8 Twin Spark 16v              2        J   \n",
       "2  2000   Alfa Romeo  145 Range          Cloverleaf              2        K   \n",
       "3  2000   Alfa Romeo  146 Range  1.6 Twin Spark 16v              2        J   \n",
       "4  2000   Alfa Romeo  146 Range  1.8 Twin Spark 16v              2        J   \n",
       "\n",
       "  transmission transmission_type  engine_capacity fuel_type  ...  \\\n",
       "0           M5            Manual           1598.0    Petrol  ...   \n",
       "1           M5            Manual           1747.0    Petrol  ...   \n",
       "2           M5            Manual           1970.0    Petrol  ...   \n",
       "3           M5            Manual           1598.0    Petrol  ...   \n",
       "4           M5            Manual           1747.0    Petrol  ...   \n",
       "\n",
       "   co_emissions  nox_emissions  thc_nox_emissions  particulates_emissions  \\\n",
       "0         980.0            NaN                NaN                     NaN   \n",
       "1        1105.0            NaN                NaN                     NaN   \n",
       "2        1103.0            NaN                NaN                     NaN   \n",
       "3         980.0            NaN                NaN                     NaN   \n",
       "4        1105.0            NaN                NaN                     NaN   \n",
       "\n",
       "   fuel_cost_12000_miles  fuel_cost_6000_miles  standard_12_months  \\\n",
       "0                    NaN                 618.0                 NaN   \n",
       "1                    NaN                 633.0                 NaN   \n",
       "2                    NaN                 663.0                 NaN   \n",
       "3                    NaN                 626.0                 NaN   \n",
       "4                    NaN                 633.0                 NaN   \n",
       "\n",
       "   standard_6_months  first_year_12_months  first_year_6_months  \n",
       "0                NaN                   NaN                  NaN  \n",
       "1                NaN                   NaN                  NaN  \n",
       "2                NaN                   NaN                  NaN  \n",
       "3                NaN                   NaN                  NaN  \n",
       "4                NaN                   NaN                  NaN  \n",
       "\n",
       "[5 rows x 29 columns]"
      ]
     },
     "execution_count": 100,
     "metadata": {},
     "output_type": "execute_result"
    }
   ],
   "source": [
    "df_test['tax_band'][:37674] = y_predicted\n",
    "df_test.head()"
   ]
  },
  {
   "cell_type": "code",
   "execution_count": 101,
   "metadata": {},
   "outputs": [
    {
     "data": {
      "text/plain": [
       "45511"
      ]
     },
     "execution_count": 101,
     "metadata": {},
     "output_type": "execute_result"
    }
   ],
   "source": [
    "df_test['tax_band'].count()"
   ]
  },
  {
   "cell_type": "code",
   "execution_count": 102,
   "metadata": {},
   "outputs": [],
   "source": [
    "def save_data(df, database_filename):\n",
    "    \"\"\"Saves the data as a database file\"\"\"\n",
    "\n",
    "    engine = create_engine(f'sqlite:///{database_filename}')\n",
    "    df.to_sql('emissions', engine, index=False, if_exists='replace')"
   ]
  },
  {
   "cell_type": "code",
   "execution_count": 103,
   "metadata": {},
   "outputs": [],
   "source": [
    "save_data(df_test, '../data_filled.db')"
   ]
  },
  {
   "cell_type": "code",
   "execution_count": null,
   "metadata": {},
   "outputs": [],
   "source": []
  }
 ],
 "metadata": {
  "kernelspec": {
   "display_name": "Python 3",
   "language": "python",
   "name": "python3"
  },
  "language_info": {
   "codemirror_mode": {
    "name": "ipython",
    "version": 3
   },
   "file_extension": ".py",
   "mimetype": "text/x-python",
   "name": "python",
   "nbconvert_exporter": "python",
   "pygments_lexer": "ipython3",
   "version": "3.9.1"
  }
 },
 "nbformat": 4,
 "nbformat_minor": 2
}
