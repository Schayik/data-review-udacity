{
 "cells": [
  {
   "cell_type": "code",
   "execution_count": 1,
   "metadata": {},
   "outputs": [],
   "source": [
    "import pickle\n",
    "import pandas as pd\n",
    "from sqlalchemy import create_engine\n",
    "\n",
    "from sklearn.pipeline import Pipeline\n",
    "from sklearn.metrics import classification_report\n",
    "from sklearn.model_selection import train_test_split, GridSearchCV\n",
    "from sklearn.ensemble import RandomForestClassifier\n",
    "from sklearn.base import BaseEstimator, TransformerMixin"
   ]
  },
  {
   "cell_type": "code",
   "execution_count": 2,
   "metadata": {},
   "outputs": [],
   "source": [
    "def load_data(database_filepath):\n",
    "    \"\"\"Loads the data from a database file and returns the target.\"\"\"\n",
    "\n",
    "    engine = create_engine(f'sqlite:///{database_filepath}')\n",
    "    df = pd.read_sql_table('emissions', engine)\n",
    "\n",
    "    return df"
   ]
  },
  {
   "cell_type": "code",
   "execution_count": 3,
   "metadata": {},
   "outputs": [
    {
     "data": {
      "text/plain": [
       "(45511, 29)"
      ]
     },
     "execution_count": 3,
     "metadata": {},
     "output_type": "execute_result"
    }
   ],
   "source": [
    "df = load_data('../data/emissions.db')\n",
    "df.shape"
   ]
  },
  {
   "cell_type": "code",
   "execution_count": 4,
   "metadata": {},
   "outputs": [],
   "source": [
    "def split_data(df):\n",
    "    \"\"\"\n",
    "    INPUT - df - full car emissions df\n",
    "    \n",
    "    OUTPUT\n",
    "    X_train, X_test, y_train, y_test - test and train sets\n",
    "    X_pop - parameter matrix for given tax band labels\n",
    "    X_nan - parameter matrix of missing tax band values which cannot be used for training and testing the model. y_nan would be an empty\n",
    "    \"\"\"\n",
    "    \n",
    "    df_pop = df.dropna(subset=['tax_band'])\n",
    "    X = df_pop.drop(columns='tax_band')\n",
    "    y = df_pop['tax_band']\n",
    "    \n",
    "    X_train, X_test, y_train, y_test, = train_test_split(X, y)\n",
    "    \n",
    "    df_nan = df[df['tax_band'].isnull()]\n",
    "    X_nan = df_nan.drop(columns='tax_band')\n",
    "\n",
    "    return X_train, X_test, y_train, y_test, df_pop, X_nan"
   ]
  },
  {
   "cell_type": "code",
   "execution_count": 5,
   "metadata": {},
   "outputs": [
    {
     "data": {
      "text/plain": [
       "((5877, 28), (1960, 28), (5877,), (1960,), (7837, 29), (37674, 28))"
      ]
     },
     "execution_count": 5,
     "metadata": {},
     "output_type": "execute_result"
    }
   ],
   "source": [
    "X_train, X_test, y_train, y_test, df_pop, X_nan = split_data(df)\n",
    "X_train.shape, X_test.shape, y_train.shape, y_test.shape, df_pop.shape, X_nan.shape"
   ]
  },
  {
   "cell_type": "code",
   "execution_count": 6,
   "metadata": {},
   "outputs": [
    {
     "data": {
      "text/plain": [
       "BMW                     890\n",
       "Volkswagen              832\n",
       "Mercedes-Benz           770\n",
       "Vauxhall                533\n",
       "Audi                    473\n",
       "Ford                    441\n",
       "Volvo                   432\n",
       "Peugeot                 321\n",
       "Kia                     313\n",
       "Skoda                   306\n",
       "Honda                   227\n",
       "Citroen                 219\n",
       "Mini                    158\n",
       "Porsche                 146\n",
       "Toyota                  145\n",
       "Seat                    143\n",
       "Renault                 139\n",
       "Chevrolet               138\n",
       "Hyundai                 123\n",
       "Chrysler Jeep           109\n",
       "Nissan                  107\n",
       "Subaru                  104\n",
       "Fiat                     89\n",
       "Mazda                    88\n",
       "Mitsubishi               85\n",
       "Suzuki                   65\n",
       "Land Rover               45\n",
       "Aston Martin Lagonda     40\n",
       "Smart                    40\n",
       "Lexus                    37\n",
       "Alfa Romeo               33\n",
       "Jaguar Cars              32\n",
       "SsangYong                30\n",
       "Infiniti                 23\n",
       "Bentley Motors           21\n",
       "Ferrari                  18\n",
       "Maserati                 17\n",
       "Corvette                 16\n",
       "Lotus                    16\n",
       "Rolls-Royce              12\n",
       "Morgan Motor Company     12\n",
       "Abarth                   11\n",
       "Dacia                     9\n",
       "Perodua                   8\n",
       "McLaren                   8\n",
       "MG Motors UK              5\n",
       "LTI                       4\n",
       "MG Motors Uk              4\n",
       "Name: manufacturer, dtype: int64"
      ]
     },
     "execution_count": 6,
     "metadata": {},
     "output_type": "execute_result"
    }
   ],
   "source": [
    "df_pop['manufacturer'].value_counts()"
   ]
  },
  {
   "cell_type": "code",
   "execution_count": 7,
   "metadata": {},
   "outputs": [
    {
     "data": {
      "text/plain": [
       "Index(['SsangYong', 'Infiniti', 'Bentley Motors', 'Ferrari', 'Maserati',\n",
       "       'Corvette', 'Lotus', 'Rolls-Royce', 'Morgan Motor Company', 'Abarth',\n",
       "       'Dacia', 'Perodua', 'McLaren', 'MG Motors UK', 'LTI', 'MG Motors Uk'],\n",
       "      dtype='object')"
      ]
     },
     "execution_count": 7,
     "metadata": {},
     "output_type": "execute_result"
    }
   ],
   "source": [
    "small_mf = df_pop['manufacturer'].value_counts() <= 30\n",
    "small_mf[small_mf].index"
   ]
  },
  {
   "cell_type": "code",
   "execution_count": 8,
   "metadata": {},
   "outputs": [
    {
     "data": {
      "text/plain": [
       "array(['Ford', 'Volvo', 'BMW', 'Volkswagen', 'Peugeot', 'Citroen', 'Audi',\n",
       "       'Seat', 'Vauxhall', 'Jaguar Cars', 'Chrysler Jeep', 'Porsche',\n",
       "       'Land Rover', 'Mercedes-Benz', 'Aston Martin Lagonda', 'Kia',\n",
       "       'Mazda', 'Other', 'Fiat', 'Nissan', 'Renault', 'Suzuki', 'Mini',\n",
       "       'Skoda', 'Toyota', 'Hyundai', 'Subaru', 'Honda', 'Chevrolet',\n",
       "       'Alfa Romeo', 'Smart', 'Mitsubishi', 'Lexus'], dtype=object)"
      ]
     },
     "execution_count": 8,
     "metadata": {},
     "output_type": "execute_result"
    }
   ],
   "source": [
    "X = X_train.copy()\n",
    "group_small = lambda row : 'Other' if row in small_mf[small_mf].index else row\n",
    "X['manufacturer'] = X['manufacturer'].apply(group_small)\n",
    "X['manufacturer'].unique()"
   ]
  },
  {
   "cell_type": "code",
   "execution_count": 9,
   "metadata": {},
   "outputs": [
    {
     "data": {
      "text/plain": [
       "Index(['M7', 'QA6', '5AT', 'SAT5', '4AT', 'AMT5', 'A6-AWD', 'A6x2', 'ASM',\n",
       "       'ET5', 'M6-AWD', 'DCT7', 'SAT6', '7SP. SSG', 'M6x2', 'MultiDrive',\n",
       "       'MultiDriv', 'A8-AWD', 'Multi5', '5MTx2', 'M5x2', 'A5-AWD', 'MTA5',\n",
       "       'S/A6', 'Multi6', 'M8'],\n",
       "      dtype='object')"
      ]
     },
     "execution_count": 9,
     "metadata": {},
     "output_type": "execute_result"
    }
   ],
   "source": [
    "small_tm = df_pop['transmission'].value_counts() <= 30\n",
    "small_tm[small_tm].index"
   ]
  },
  {
   "cell_type": "code",
   "execution_count": 10,
   "metadata": {},
   "outputs": [
    {
     "data": {
      "text/plain": [
       "Manual       4275\n",
       "Automatic    3221\n",
       "Name: transmission_type, dtype: int64"
      ]
     },
     "execution_count": 10,
     "metadata": {},
     "output_type": "execute_result"
    }
   ],
   "source": [
    "df_pop['transmission_type'].value_counts()"
   ]
  },
  {
   "cell_type": "code",
   "execution_count": 11,
   "metadata": {},
   "outputs": [
    {
     "data": {
      "text/plain": [
       "Diesel                      3960\n",
       "Petrol                      3747\n",
       "Petrol Hybrid                 62\n",
       "Diesel Electric               22\n",
       "Petrol / E85 (Flex Fuel)      16\n",
       "Petrol Electric               13\n",
       "Electricity                    7\n",
       "Electricity/Petrol             5\n",
       "CNG                            4\n",
       "Electricity/Diesel             1\n",
       "Name: fuel_type, dtype: int64"
      ]
     },
     "execution_count": 11,
     "metadata": {},
     "output_type": "execute_result"
    }
   ],
   "source": [
    "df_pop['fuel_type'].value_counts()"
   ]
  },
  {
   "cell_type": "code",
   "execution_count": 12,
   "metadata": {},
   "outputs": [
    {
     "data": {
      "text/plain": [
       "Index(['Diesel Electric', 'Petrol / E85 (Flex Fuel)', 'Petrol Electric',\n",
       "       'Electricity', 'Electricity/Petrol', 'CNG', 'Electricity/Diesel'],\n",
       "      dtype='object')"
      ]
     },
     "execution_count": 12,
     "metadata": {},
     "output_type": "execute_result"
    }
   ],
   "source": [
    "small_ft = df_pop['fuel_type'].value_counts() <= 30\n",
    "small_ft[small_ft].index"
   ]
  },
  {
   "cell_type": "code",
   "execution_count": 13,
   "metadata": {},
   "outputs": [],
   "source": [
    "class EmissionsTransformer(BaseEstimator, TransformerMixin):\n",
    "    \"\"\"\n",
    "    Adds dummies to categorical columns and removes the original ones\n",
    "    \"\"\"\n",
    "    \n",
    "    def drop_columns(self, X):\n",
    "        \"\"\"\n",
    "        Dropping model and description as they would create too many dummies.\n",
    "        Dropping fuel_cost_6000_miles as it contains only empty values.\n",
    "        \"\"\"\n",
    "        \n",
    "        X = X.drop(['model', 'description', 'fuel_cost_6000_miles'], axis=1)\n",
    "        return X\n",
    "    \n",
    "    def fill_columns(self, X):\n",
    "        \"\"\"Filling the numeric columns with the mean of these columns\"\"\"\n",
    "            \n",
    "        numeric_columns = X.select_dtypes(exclude=['object']).columns\n",
    "        X[numeric_columns] = X[numeric_columns].fillna(X.mean())\n",
    "        return X\n",
    "    \n",
    "    def adjust_categorical(self, X):\n",
    "        \"\"\"\n",
    "        A few issues would occur when adding dummies to the categorical columns without this step. \n",
    "        \"\"\"\n",
    "        small_mf = ['SsangYong', 'Infiniti', 'Bentley Motors', 'Ferrari', 'Maserati',\n",
    "           'Lotus', 'Corvette', 'Rolls-Royce', 'Morgan Motor Company', 'Abarth',\n",
    "           'Dacia', 'McLaren', 'Perodua', 'MG Motors UK', 'LTI', 'MG Motors Uk']\n",
    "        other_mf = lambda row : 'Other' if row in small_mf else row\n",
    "        X['manufacturer'] = X['manufacturer'].apply(other_mf)\n",
    "        \n",
    "        small_tm = ['QA6', 'M7', '5AT', 'SAT5', '4AT', 'AMT5', 'A6-AWD', 'A6x2', 'ASM',\n",
    "       'DCT7', 'ET5', 'M6-AWD', 'SAT6', 'M6x2', '7SP. SSG', 'MultiDriv',\n",
    "       'MultiDrive', 'A8-AWD', 'Multi5', '5MTx2', 'M5x2', 'A5-AWD', 'Multi6',\n",
    "       'S/A6', 'MTA5', 'M8']\n",
    "        other_tm = lambda row : 'Other' if row in small_tm else row\n",
    "        X['transmission'] = X['transmission'].apply(other_tm)\n",
    "        \n",
    "        small_ft = ['Diesel Electric', 'Petrol / E85 (Flex Fuel)', 'Petrol Electric',\n",
    "       'Electricity', 'Electricity/Petrol', 'CNG', 'Electricity/Diesel']\n",
    "        other_ft = lambda row : 'Other' if row in small_ft else row\n",
    "        X['fuel_type'] = X['fuel_type'].apply(other_ft)\n",
    "        \n",
    "        return X\n",
    "\n",
    "    def add_dummies(self, X):\n",
    "        mf = pd.get_dummies(X['manufacturer'], prefix='manufacturer')\n",
    "        tm = pd.get_dummies(X['transmission'], prefix='transmission')\n",
    "        tmt = pd.get_dummies(X['transmission_type'], prefix='transmission_type')\n",
    "        ft = pd.get_dummies(X['fuel_type'], prefix='fuel_type')\n",
    "        \n",
    "        X = pd.concat([X, mf, tm, tmt, ft], axis=1)\n",
    "        X = X.drop(['manufacturer', 'transmission', 'transmission_type', 'fuel_type'], axis=1)\n",
    "        return X\n",
    "    \n",
    "    def fit(self, X, y=None):\n",
    "        return self\n",
    "\n",
    "    def transform(self, X):\n",
    "        X = self.drop_columns(X)\n",
    "        X = self.fill_columns(X)\n",
    "        X = self.adjust_categorical(X)\n",
    "        X = self.add_dummies(X)\n",
    "        return X"
   ]
  },
  {
   "cell_type": "code",
   "execution_count": 14,
   "metadata": {},
   "outputs": [],
   "source": [
    "transformer = EmissionsTransformer()"
   ]
  },
  {
   "cell_type": "code",
   "execution_count": 15,
   "metadata": {},
   "outputs": [],
   "source": [
    "def build_model():\n",
    "    \"\"\"Describes the model used on the data, consisting of NLP transformers and\n",
    "    an individual classifier of each category.\"\"\"\n",
    "\n",
    "    pipeline = Pipeline([\n",
    "        ('et', EmissionsTransformer()),\n",
    "        ('clf', RandomForestClassifier()),\n",
    "    ])\n",
    "\n",
    "    parameters = {\n",
    "        'clf__criterion': ['gini', 'entropy'],\n",
    "    }\n",
    "\n",
    "    model = GridSearchCV(pipeline, param_grid=parameters)\n",
    "\n",
    "    return model"
   ]
  },
  {
   "cell_type": "code",
   "execution_count": 16,
   "metadata": {},
   "outputs": [],
   "source": [
    "model = build_model()"
   ]
  },
  {
   "cell_type": "code",
   "execution_count": 17,
   "metadata": {},
   "outputs": [
    {
     "data": {
      "text/plain": [
       "{'cv': None,\n",
       " 'error_score': nan,\n",
       " 'estimator__memory': None,\n",
       " 'estimator__steps': [('et', EmissionsTransformer()),\n",
       "  ('clf', RandomForestClassifier())],\n",
       " 'estimator__verbose': False,\n",
       " 'estimator__et': EmissionsTransformer(),\n",
       " 'estimator__clf': RandomForestClassifier(),\n",
       " 'estimator__clf__bootstrap': True,\n",
       " 'estimator__clf__ccp_alpha': 0.0,\n",
       " 'estimator__clf__class_weight': None,\n",
       " 'estimator__clf__criterion': 'gini',\n",
       " 'estimator__clf__max_depth': None,\n",
       " 'estimator__clf__max_features': 'auto',\n",
       " 'estimator__clf__max_leaf_nodes': None,\n",
       " 'estimator__clf__max_samples': None,\n",
       " 'estimator__clf__min_impurity_decrease': 0.0,\n",
       " 'estimator__clf__min_impurity_split': None,\n",
       " 'estimator__clf__min_samples_leaf': 1,\n",
       " 'estimator__clf__min_samples_split': 2,\n",
       " 'estimator__clf__min_weight_fraction_leaf': 0.0,\n",
       " 'estimator__clf__n_estimators': 100,\n",
       " 'estimator__clf__n_jobs': None,\n",
       " 'estimator__clf__oob_score': False,\n",
       " 'estimator__clf__random_state': None,\n",
       " 'estimator__clf__verbose': 0,\n",
       " 'estimator__clf__warm_start': False,\n",
       " 'estimator': Pipeline(steps=[('et', EmissionsTransformer()),\n",
       "                 ('clf', RandomForestClassifier())]),\n",
       " 'n_jobs': None,\n",
       " 'param_grid': {'clf__criterion': ['gini', 'entropy']},\n",
       " 'pre_dispatch': '2*n_jobs',\n",
       " 'refit': True,\n",
       " 'return_train_score': False,\n",
       " 'scoring': None,\n",
       " 'verbose': 0}"
      ]
     },
     "execution_count": 17,
     "metadata": {},
     "output_type": "execute_result"
    }
   ],
   "source": [
    "model.get_params()"
   ]
  },
  {
   "cell_type": "code",
   "execution_count": 18,
   "metadata": {},
   "outputs": [],
   "source": [
    "def evaluate_model(model, X_test, y_test):\n",
    "    \"\"\"Shows the accuracy, precision, and recall of the model.\"\"\"\n",
    "\n",
    "    y_pred = model.predict(X_test)\n",
    "    print(classification_report(y_test, y_pred))\n",
    "    print(model.best_params_)"
   ]
  },
  {
   "cell_type": "code",
   "execution_count": 19,
   "metadata": {},
   "outputs": [],
   "source": [
    "def save_model(model, model_filepath):\n",
    "    \"\"\"Saves the model as a pickle file\"\"\"\n",
    "\n",
    "    with open(model_filepath, 'wb') as file:\n",
    "        pickle.dump(model, file)"
   ]
  },
  {
   "cell_type": "code",
   "execution_count": 21,
   "metadata": {},
   "outputs": [
    {
     "name": "stdout",
     "output_type": "stream",
     "text": [
      "Loading data...\n",
      "splitting data...\n",
      "Building model...\n",
      "Training model...\n",
      "Evaluating model...\n",
      "              precision    recall  f1-score   support\n",
      "\n",
      "           A       1.00      1.00      1.00        75\n",
      "           B       0.99      1.00      0.99        90\n",
      "           C       1.00      1.00      1.00       205\n",
      "           D       1.00      1.00      1.00       232\n",
      "           E       1.00      1.00      1.00       279\n",
      "           F       0.99      1.00      1.00       226\n",
      "           G       1.00      0.99      1.00       287\n",
      "           H       1.00      1.00      1.00       132\n",
      "           I       1.00      1.00      1.00        86\n",
      "           J       1.00      1.00      1.00       114\n",
      "           K       1.00      1.00      1.00        83\n",
      "           L       1.00      1.00      1.00        55\n",
      "           M       1.00      1.00      1.00        96\n",
      "\n",
      "    accuracy                           1.00      1960\n",
      "   macro avg       1.00      1.00      1.00      1960\n",
      "weighted avg       1.00      1.00      1.00      1960\n",
      "\n",
      "{'clf__criterion': 'gini'}\n",
      "Saving model...\n",
      "    MODEL: classifier.pkl\n",
      "Trained model saved!\n"
     ]
    }
   ],
   "source": [
    "database_filepath = '../data/emissions.db'\n",
    "model_filepath = 'classifier.pkl'\n",
    "\n",
    "print('Loading data...')\n",
    "df = load_data(database_filepath)\n",
    "\n",
    "print('splitting data...')\n",
    "X_train, X_test, y_train, y_test, df_pop, X_nan = split_data(df)\n",
    "\n",
    "print('Building model...')\n",
    "model = build_model()\n",
    "\n",
    "print('Training model...')\n",
    "model.fit(X_train, y_train)\n",
    "\n",
    "print('Evaluating model...')\n",
    "evaluate_model(model, X_test, y_test)\n",
    "\n",
    "print('Saving model...\\n    MODEL: {}'.format(model_filepath))\n",
    "save_model(model, model_filepath)\n",
    "\n",
    "print('Trained model saved!')"
   ]
  },
  {
   "cell_type": "code",
   "execution_count": null,
   "metadata": {},
   "outputs": [],
   "source": []
  },
  {
   "cell_type": "code",
   "execution_count": null,
   "metadata": {},
   "outputs": [],
   "source": []
  }
 ],
 "metadata": {
  "kernelspec": {
   "display_name": "Python 3",
   "language": "python",
   "name": "python3"
  },
  "language_info": {
   "codemirror_mode": {
    "name": "ipython",
    "version": 3
   },
   "file_extension": ".py",
   "mimetype": "text/x-python",
   "name": "python",
   "nbconvert_exporter": "python",
   "pygments_lexer": "ipython3",
   "version": "3.9.1"
  }
 },
 "nbformat": 4,
 "nbformat_minor": 2
}
