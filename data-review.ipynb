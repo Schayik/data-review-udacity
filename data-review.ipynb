{
 "cells": [
  {
   "cell_type": "markdown",
   "metadata": {},
   "source": [
    "# Car Emission\n",
    "\n",
    "I'm going to investigate the car emission in the UK.\n",
    "\n",
    "The business questions I'm thinking of are:\n",
    "- Which companies have the most environmentally friendly cars?\n",
    "- What factors are important in the asignment of a tax label?\n",
    "- Does the emission decrease over time?"
   ]
  },
  {
   "cell_type": "code",
   "execution_count": 1,
   "metadata": {
    "scrolled": false
   },
   "outputs": [
    {
     "name": "stderr",
     "output_type": "stream",
     "text": [
      "C:\\Users\\pimvs\\Documents\\udacity-data-review\\venv\\lib\\site-packages\\IPython\\core\\interactiveshell.py:3146: DtypeWarning: Columns (6,30) have mixed types.Specify dtype option on import or set low_memory=False.\n",
      "  has_raised = await self.run_ast_nodes(code_ast.body, cell_name,\n"
     ]
    },
    {
     "data": {
      "text/html": [
       "<div>\n",
       "<style scoped>\n",
       "    .dataframe tbody tr th:only-of-type {\n",
       "        vertical-align: middle;\n",
       "    }\n",
       "\n",
       "    .dataframe tbody tr th {\n",
       "        vertical-align: top;\n",
       "    }\n",
       "\n",
       "    .dataframe thead th {\n",
       "        text-align: right;\n",
       "    }\n",
       "</style>\n",
       "<table border=\"1\" class=\"dataframe\">\n",
       "  <thead>\n",
       "    <tr style=\"text-align: right;\">\n",
       "      <th></th>\n",
       "      <th>file</th>\n",
       "      <th>year</th>\n",
       "      <th>manufacturer</th>\n",
       "      <th>model</th>\n",
       "      <th>description</th>\n",
       "      <th>euro_standard</th>\n",
       "      <th>tax_band</th>\n",
       "      <th>transmission</th>\n",
       "      <th>transmission_type</th>\n",
       "      <th>engine_capacity</th>\n",
       "      <th>...</th>\n",
       "      <th>nox_emissions</th>\n",
       "      <th>thc_nox_emissions</th>\n",
       "      <th>particulates_emissions</th>\n",
       "      <th>fuel_cost_12000_miles</th>\n",
       "      <th>fuel_cost_6000_miles</th>\n",
       "      <th>standard_12_months</th>\n",
       "      <th>standard_6_months</th>\n",
       "      <th>first_year_12_months</th>\n",
       "      <th>first_year_6_months</th>\n",
       "      <th>date_of_change</th>\n",
       "    </tr>\n",
       "  </thead>\n",
       "  <tbody>\n",
       "    <tr>\n",
       "      <th>0</th>\n",
       "      <td>DatapartC_july2000.csv</td>\n",
       "      <td>2000</td>\n",
       "      <td>Alfa Romeo</td>\n",
       "      <td>145 Range</td>\n",
       "      <td>1.6 Twin Spark 16v</td>\n",
       "      <td>2</td>\n",
       "      <td>NaN</td>\n",
       "      <td>M5</td>\n",
       "      <td>Manual</td>\n",
       "      <td>1598.0</td>\n",
       "      <td>...</td>\n",
       "      <td>NaN</td>\n",
       "      <td>NaN</td>\n",
       "      <td>NaN</td>\n",
       "      <td>NaN</td>\n",
       "      <td>618.0</td>\n",
       "      <td>NaN</td>\n",
       "      <td>NaN</td>\n",
       "      <td>NaN</td>\n",
       "      <td>NaN</td>\n",
       "      <td>NaN</td>\n",
       "    </tr>\n",
       "    <tr>\n",
       "      <th>1</th>\n",
       "      <td>DatapartC_july2000.csv</td>\n",
       "      <td>2000</td>\n",
       "      <td>Alfa Romeo</td>\n",
       "      <td>145 Range</td>\n",
       "      <td>1.8 Twin Spark 16v</td>\n",
       "      <td>2</td>\n",
       "      <td>NaN</td>\n",
       "      <td>M5</td>\n",
       "      <td>Manual</td>\n",
       "      <td>1747.0</td>\n",
       "      <td>...</td>\n",
       "      <td>NaN</td>\n",
       "      <td>NaN</td>\n",
       "      <td>NaN</td>\n",
       "      <td>NaN</td>\n",
       "      <td>633.0</td>\n",
       "      <td>NaN</td>\n",
       "      <td>NaN</td>\n",
       "      <td>NaN</td>\n",
       "      <td>NaN</td>\n",
       "      <td>NaN</td>\n",
       "    </tr>\n",
       "    <tr>\n",
       "      <th>2</th>\n",
       "      <td>DatapartC_july2000.csv</td>\n",
       "      <td>2000</td>\n",
       "      <td>Alfa Romeo</td>\n",
       "      <td>145 Range</td>\n",
       "      <td>Cloverleaf</td>\n",
       "      <td>2</td>\n",
       "      <td>NaN</td>\n",
       "      <td>M5</td>\n",
       "      <td>Manual</td>\n",
       "      <td>1970.0</td>\n",
       "      <td>...</td>\n",
       "      <td>NaN</td>\n",
       "      <td>NaN</td>\n",
       "      <td>NaN</td>\n",
       "      <td>NaN</td>\n",
       "      <td>663.0</td>\n",
       "      <td>NaN</td>\n",
       "      <td>NaN</td>\n",
       "      <td>NaN</td>\n",
       "      <td>NaN</td>\n",
       "      <td>NaN</td>\n",
       "    </tr>\n",
       "    <tr>\n",
       "      <th>3</th>\n",
       "      <td>DatapartC_july2000.csv</td>\n",
       "      <td>2000</td>\n",
       "      <td>Alfa Romeo</td>\n",
       "      <td>146 Range</td>\n",
       "      <td>1.6 Twin Spark 16v</td>\n",
       "      <td>2</td>\n",
       "      <td>NaN</td>\n",
       "      <td>M5</td>\n",
       "      <td>Manual</td>\n",
       "      <td>1598.0</td>\n",
       "      <td>...</td>\n",
       "      <td>NaN</td>\n",
       "      <td>NaN</td>\n",
       "      <td>NaN</td>\n",
       "      <td>NaN</td>\n",
       "      <td>626.0</td>\n",
       "      <td>NaN</td>\n",
       "      <td>NaN</td>\n",
       "      <td>NaN</td>\n",
       "      <td>NaN</td>\n",
       "      <td>NaN</td>\n",
       "    </tr>\n",
       "    <tr>\n",
       "      <th>4</th>\n",
       "      <td>DatapartC_july2000.csv</td>\n",
       "      <td>2000</td>\n",
       "      <td>Alfa Romeo</td>\n",
       "      <td>146 Range</td>\n",
       "      <td>1.8 Twin Spark 16v</td>\n",
       "      <td>2</td>\n",
       "      <td>NaN</td>\n",
       "      <td>M5</td>\n",
       "      <td>Manual</td>\n",
       "      <td>1747.0</td>\n",
       "      <td>...</td>\n",
       "      <td>NaN</td>\n",
       "      <td>NaN</td>\n",
       "      <td>NaN</td>\n",
       "      <td>NaN</td>\n",
       "      <td>633.0</td>\n",
       "      <td>NaN</td>\n",
       "      <td>NaN</td>\n",
       "      <td>NaN</td>\n",
       "      <td>NaN</td>\n",
       "      <td>NaN</td>\n",
       "    </tr>\n",
       "  </tbody>\n",
       "</table>\n",
       "<p>5 rows × 31 columns</p>\n",
       "</div>"
      ],
      "text/plain": [
       "                     file  year manufacturer      model         description  \\\n",
       "0  DatapartC_july2000.csv  2000   Alfa Romeo  145 Range  1.6 Twin Spark 16v   \n",
       "1  DatapartC_july2000.csv  2000   Alfa Romeo  145 Range  1.8 Twin Spark 16v   \n",
       "2  DatapartC_july2000.csv  2000   Alfa Romeo  145 Range          Cloverleaf   \n",
       "3  DatapartC_july2000.csv  2000   Alfa Romeo  146 Range  1.6 Twin Spark 16v   \n",
       "4  DatapartC_july2000.csv  2000   Alfa Romeo  146 Range  1.8 Twin Spark 16v   \n",
       "\n",
       "   euro_standard tax_band transmission transmission_type  engine_capacity  \\\n",
       "0              2      NaN           M5            Manual           1598.0   \n",
       "1              2      NaN           M5            Manual           1747.0   \n",
       "2              2      NaN           M5            Manual           1970.0   \n",
       "3              2      NaN           M5            Manual           1598.0   \n",
       "4              2      NaN           M5            Manual           1747.0   \n",
       "\n",
       "   ... nox_emissions  thc_nox_emissions  particulates_emissions  \\\n",
       "0  ...           NaN                NaN                     NaN   \n",
       "1  ...           NaN                NaN                     NaN   \n",
       "2  ...           NaN                NaN                     NaN   \n",
       "3  ...           NaN                NaN                     NaN   \n",
       "4  ...           NaN                NaN                     NaN   \n",
       "\n",
       "   fuel_cost_12000_miles  fuel_cost_6000_miles  standard_12_months  \\\n",
       "0                    NaN                 618.0                 NaN   \n",
       "1                    NaN                 633.0                 NaN   \n",
       "2                    NaN                 663.0                 NaN   \n",
       "3                    NaN                 626.0                 NaN   \n",
       "4                    NaN                 633.0                 NaN   \n",
       "\n",
       "   standard_6_months  first_year_12_months  first_year_6_months  \\\n",
       "0                NaN                   NaN                  NaN   \n",
       "1                NaN                   NaN                  NaN   \n",
       "2                NaN                   NaN                  NaN   \n",
       "3                NaN                   NaN                  NaN   \n",
       "4                NaN                   NaN                  NaN   \n",
       "\n",
       "   date_of_change  \n",
       "0             NaN  \n",
       "1             NaN  \n",
       "2             NaN  \n",
       "3             NaN  \n",
       "4             NaN  \n",
       "\n",
       "[5 rows x 31 columns]"
      ]
     },
     "execution_count": 1,
     "metadata": {},
     "output_type": "execute_result"
    }
   ],
   "source": [
    "import numpy as np\n",
    "import pandas as pd\n",
    "import matplotlib.pyplot as plt\n",
    "from sklearn.linear_model import LinearRegression\n",
    "from sklearn.model_selection import train_test_split\n",
    "from sklearn.metrics import r2_score, mean_squared_error\n",
    "import seaborn as sns\n",
    "%matplotlib inline\n",
    "\n",
    "df = pd.read_csv('./data.csv')\n",
    "df.head()"
   ]
  },
  {
   "cell_type": "markdown",
   "metadata": {},
   "source": [
    "# Warning columns\n",
    "\n",
    "First of all, I'll have a look at the columns that gave me a warning:\n",
    "```DtypeWarning: Columns (6,30) have mixed types.Specify dtype option on import or set low_memory=False.```\n",
    "\n",
    "## Column 6: tax_band"
   ]
  },
  {
   "cell_type": "code",
   "execution_count": 2,
   "metadata": {
    "scrolled": true
   },
   "outputs": [
    {
     "data": {
      "text/plain": [
       "'tax_band'"
      ]
     },
     "execution_count": 2,
     "metadata": {},
     "output_type": "execute_result"
    }
   ],
   "source": [
    "df.columns[6] # check column name"
   ]
  },
  {
   "cell_type": "code",
   "execution_count": 3,
   "metadata": {},
   "outputs": [
    {
     "data": {
      "text/plain": [
       "array([nan, 'G', 'F', 'E', 'D', 'C', 'I', 'A', 'M', 'B', 'J', 'H', 'K',\n",
       "       'L'], dtype=object)"
      ]
     },
     "execution_count": 3,
     "metadata": {},
     "output_type": "execute_result"
    }
   ],
   "source": [
    "df['tax_band'].unique() # check unique values"
   ]
  },
  {
   "cell_type": "markdown",
   "metadata": {},
   "source": [
    "Since labels A means environmentally most friendly and L means environmentally most unfriendly, it makes sense to map these labels to numbers."
   ]
  },
  {
   "cell_type": "code",
   "execution_count": 4,
   "metadata": {},
   "outputs": [
    {
     "data": {
      "text/plain": [
       "array([nan,  7.,  6.,  5.,  4.,  3.,  9.,  1.,  2., 10.,  8., 11., 12.])"
      ]
     },
     "execution_count": 4,
     "metadata": {},
     "output_type": "execute_result"
    }
   ],
   "source": [
    "label_mapping = { 'A': 1, 'B': 2, 'C': 3, 'D': 4, 'E': 5, 'F': 6, 'G': 7, 'H': 8, 'I': 9, 'J': 10, 'K': 11, 'L': 12 }\n",
    "df['tax_band'] = df['tax_band'].map(label_mapping)\n",
    "df['tax_band'].unique()"
   ]
  },
  {
   "cell_type": "markdown",
   "metadata": {},
   "source": [
    "## Column 30: date_of_change"
   ]
  },
  {
   "cell_type": "code",
   "execution_count": 5,
   "metadata": {},
   "outputs": [
    {
     "data": {
      "text/plain": [
       "'date_of_change'"
      ]
     },
     "execution_count": 5,
     "metadata": {},
     "output_type": "execute_result"
    }
   ],
   "source": [
    "df.columns[30]"
   ]
  },
  {
   "cell_type": "code",
   "execution_count": 6,
   "metadata": {},
   "outputs": [
    {
     "name": "stdout",
     "output_type": "stream",
     "text": [
      "[nan '18 February 2004' '04 March 2003' '01 July 2001' '27 March 2003'\n",
      " '08 August 2003' '26 June 2003' '25 February 2004' '20 March 2003'\n",
      " '30 May 2003' '06 August 2003' '24 February 2004' '21 April 2004'\n",
      " '30 July 2003' '22 May 2003' '17 October 2003' '20 April 2004'\n",
      " '16 March 2004' '22 July 2003' '01 August 2003' '10 October 2003'\n",
      " '27 February 2004' '28 January 2004' '15 May 2003' '06 March 2003'\n",
      " '23 February 2004' '17 February 2004' '11 September 2003' '17 June 2003'\n",
      " '26 October 2001' '13 February 2004' '11 June 2003' '06 October 2003'\n",
      " '18 December 2003' '07 November 2003' '02 December 2002' '02 March 2004'\n",
      " '17 April 2002' '18 December 2001' '27 August 2002' '21 August 2002'\n",
      " '18 June 2003' '29 August 2002' '23 May 2003' '05 December 2003'\n",
      " '18 March 2004' '15 March 2002' '21 June 2002' '30 March 2004'\n",
      " '29 April 2003' '20 February 2003' '02 May 2003' '01 March 2004'\n",
      " '21 October 2003' '10 March 2003' '14 November 2001' '17 December 2001'\n",
      " '07 May 2003' '17 March 2004' '07 April 2004' '18 June 2002'\n",
      " '20 June 2002' '06 April 2004' '13 November 2003' '29 January 2004'\n",
      " '09 January 2004' '28 January 2003' '19 February 2004' '29 April 2002'\n",
      " '03 November 2003' '23 November 2001' '21 November 2001' '19 March 2003'\n",
      " '08 April 2003' '28 November 2001' '12 July 2002' '05 November 2003'\n",
      " '16 February 2004' '02 February 2004' '28 May 2003' '22 March 2002'\n",
      " '09 December 2002' '13 March 2003' '31 January 2002' '27 October 2003'\n",
      " '03 March 2004' '10 October 2002' '15 October 2002' '28 November 2003'\n",
      " '20 May 2002' '11 March 2004' '26 February 2004' '25 March 2004'\n",
      " '06 February 2002' '14 April 2003' '07 November 2002' '09 April 2002'\n",
      " '13 January 2003' '04 February 2004' '04 June 2003' '24 March 2003'\n",
      " '22 March 2004' '22 November 2002' '25 October 2002' '06 June 2003'\n",
      " '31 October 2002' '25 March 2002' '11 December 2002' '19 December 2001'\n",
      " '29 October 2001' '28 July 2003' '13 August 2002' '31 July 2003'\n",
      " '16 August 2002' '19 September 2001' '15 July 2002' '18 July 2002'\n",
      " '24 April 2002' '29 July 2002' '25 July 2002' '13 March 2002'\n",
      " '21 November 2003' '28 August 2003' '11 October 2002' '24 September 2002'\n",
      " '25 September 2002' '29 May 2003' '21 May 2002' '09 June 2003'\n",
      " '31 October 2003' '06 June 2002' '16 January 2004' '17 January 2002'\n",
      " '08 April 2002' '29 November 2001' '21 January 2003' '15 August 2002'\n",
      " '14 August 2002' '15 January 2004' '20 March 2002' '19 March 2002'\n",
      " '08 July 2003' '27 February 2003' '11 March 2003' '24 February 2003'\n",
      " '18 February 2003' '02 May 2002' '27 February 2002' '31 July 2002'\n",
      " '27 June 2002' '08 March 2002' '05 July 2002' '18 October 2002'\n",
      " '03 February 2003' '06 February 2004' '03 December 2003' '09 May 2003'\n",
      " '23 August 2002' '14 August 2003' '13 August 2003' '26 February 2002'\n",
      " '21 May 2003' '10 February 2003' '14 June 2002' '23 January 2002'\n",
      " '16 October 2003' '18 November 2003' '23 July 2003' '26 March 2002'\n",
      " '17 January 2003' '10 April 2002' '15 April 2002' '20 January 2004'\n",
      " '21 February 2003' '14 November 2002' '22 April 2004' '12 May 2003'\n",
      " '23 April 2004' '26 April 2004' '08 May 2003' '27 April 2004'\n",
      " '19 March 2004' '10 June 2003' '21 July 2003' '12 March 2003'\n",
      " '31 March 2004' '07 October 2003' '29 December 2003' '17 December 2003'\n",
      " '19 September 2003' '26 July 2002' '19 December 2003' '10 September 2002'\n",
      " '25 January 2002' '29 January 2003' '21 March 2002' '16 December 2002'\n",
      " '04 February 2002' '08 February 2002' '14 March 2002' '16 January 2003'\n",
      " '13 September 2002' '11 January 2002' '01 February 2002'\n",
      " '06 February 2003' '22 November 2001' '14 December 2001'\n",
      " '04 December 2001' '09 September 2002' '17 March 2003' '09 August 2001'\n",
      " '06 August 2001' '14 October 2002' '03 December 2001' '31 January 2003'\n",
      " '15 November 2002' '30 November 2001' '02 January 2003'\n",
      " '18 December 2002' '30 January 2002' '21 March 2003' '21 September 2001'\n",
      " '25 March 2003' '11 October 2001' '25 April 2002' '14 May 2003'\n",
      " '18 November 2002' '09 January 2002' '28 January 2002' '13 November 2001']\n"
     ]
    }
   ],
   "source": [
    "print(df['date_of_change'].unique())"
   ]
  },
  {
   "cell_type": "markdown",
   "metadata": {},
   "source": [
    "Since these are dates, we'll parse them"
   ]
  },
  {
   "cell_type": "code",
   "execution_count": 7,
   "metadata": {
    "scrolled": true
   },
   "outputs": [
    {
     "data": {
      "text/plain": [
       "array([                          'NaT', '2004-02-18T00:00:00.000000000',\n",
       "       '2003-03-04T00:00:00.000000000', '2001-07-01T00:00:00.000000000',\n",
       "       '2003-03-27T00:00:00.000000000', '2003-08-08T00:00:00.000000000',\n",
       "       '2003-06-26T00:00:00.000000000', '2004-02-25T00:00:00.000000000',\n",
       "       '2003-03-20T00:00:00.000000000', '2003-05-30T00:00:00.000000000',\n",
       "       '2003-08-06T00:00:00.000000000', '2004-02-24T00:00:00.000000000',\n",
       "       '2004-04-21T00:00:00.000000000', '2003-07-30T00:00:00.000000000',\n",
       "       '2003-05-22T00:00:00.000000000', '2003-10-17T00:00:00.000000000',\n",
       "       '2004-04-20T00:00:00.000000000', '2004-03-16T00:00:00.000000000',\n",
       "       '2003-07-22T00:00:00.000000000', '2003-08-01T00:00:00.000000000',\n",
       "       '2003-10-10T00:00:00.000000000', '2004-02-27T00:00:00.000000000',\n",
       "       '2004-01-28T00:00:00.000000000', '2003-05-15T00:00:00.000000000',\n",
       "       '2003-03-06T00:00:00.000000000', '2004-02-23T00:00:00.000000000',\n",
       "       '2004-02-17T00:00:00.000000000', '2003-09-11T00:00:00.000000000',\n",
       "       '2003-06-17T00:00:00.000000000', '2001-10-26T00:00:00.000000000',\n",
       "       '2004-02-13T00:00:00.000000000', '2003-06-11T00:00:00.000000000',\n",
       "       '2003-10-06T00:00:00.000000000', '2003-12-18T00:00:00.000000000',\n",
       "       '2003-11-07T00:00:00.000000000', '2002-12-02T00:00:00.000000000',\n",
       "       '2004-03-02T00:00:00.000000000', '2002-04-17T00:00:00.000000000',\n",
       "       '2001-12-18T00:00:00.000000000', '2002-08-27T00:00:00.000000000',\n",
       "       '2002-08-21T00:00:00.000000000', '2003-06-18T00:00:00.000000000',\n",
       "       '2002-08-29T00:00:00.000000000', '2003-05-23T00:00:00.000000000',\n",
       "       '2003-12-05T00:00:00.000000000', '2004-03-18T00:00:00.000000000',\n",
       "       '2002-03-15T00:00:00.000000000', '2002-06-21T00:00:00.000000000',\n",
       "       '2004-03-30T00:00:00.000000000', '2003-04-29T00:00:00.000000000',\n",
       "       '2003-02-20T00:00:00.000000000', '2003-05-02T00:00:00.000000000',\n",
       "       '2004-03-01T00:00:00.000000000', '2003-10-21T00:00:00.000000000',\n",
       "       '2003-03-10T00:00:00.000000000', '2001-11-14T00:00:00.000000000',\n",
       "       '2001-12-17T00:00:00.000000000', '2003-05-07T00:00:00.000000000',\n",
       "       '2004-03-17T00:00:00.000000000', '2004-04-07T00:00:00.000000000',\n",
       "       '2002-06-18T00:00:00.000000000', '2002-06-20T00:00:00.000000000',\n",
       "       '2004-04-06T00:00:00.000000000', '2003-11-13T00:00:00.000000000',\n",
       "       '2004-01-29T00:00:00.000000000', '2004-01-09T00:00:00.000000000',\n",
       "       '2003-01-28T00:00:00.000000000', '2004-02-19T00:00:00.000000000',\n",
       "       '2002-04-29T00:00:00.000000000', '2003-11-03T00:00:00.000000000',\n",
       "       '2001-11-23T00:00:00.000000000', '2001-11-21T00:00:00.000000000',\n",
       "       '2003-03-19T00:00:00.000000000', '2003-04-08T00:00:00.000000000',\n",
       "       '2001-11-28T00:00:00.000000000', '2002-07-12T00:00:00.000000000',\n",
       "       '2003-11-05T00:00:00.000000000', '2004-02-16T00:00:00.000000000',\n",
       "       '2004-02-02T00:00:00.000000000', '2003-05-28T00:00:00.000000000',\n",
       "       '2002-03-22T00:00:00.000000000', '2002-12-09T00:00:00.000000000',\n",
       "       '2003-03-13T00:00:00.000000000', '2002-01-31T00:00:00.000000000',\n",
       "       '2003-10-27T00:00:00.000000000', '2004-03-03T00:00:00.000000000',\n",
       "       '2002-10-10T00:00:00.000000000', '2002-10-15T00:00:00.000000000',\n",
       "       '2003-11-28T00:00:00.000000000', '2002-05-20T00:00:00.000000000',\n",
       "       '2004-03-11T00:00:00.000000000', '2004-02-26T00:00:00.000000000',\n",
       "       '2004-03-25T00:00:00.000000000', '2002-02-06T00:00:00.000000000',\n",
       "       '2003-04-14T00:00:00.000000000', '2002-11-07T00:00:00.000000000',\n",
       "       '2002-04-09T00:00:00.000000000', '2003-01-13T00:00:00.000000000',\n",
       "       '2004-02-04T00:00:00.000000000', '2003-06-04T00:00:00.000000000',\n",
       "       '2003-03-24T00:00:00.000000000', '2004-03-22T00:00:00.000000000',\n",
       "       '2002-11-22T00:00:00.000000000', '2002-10-25T00:00:00.000000000',\n",
       "       '2003-06-06T00:00:00.000000000', '2002-10-31T00:00:00.000000000',\n",
       "       '2002-03-25T00:00:00.000000000', '2002-12-11T00:00:00.000000000',\n",
       "       '2001-12-19T00:00:00.000000000', '2001-10-29T00:00:00.000000000',\n",
       "       '2003-07-28T00:00:00.000000000', '2002-08-13T00:00:00.000000000',\n",
       "       '2003-07-31T00:00:00.000000000', '2002-08-16T00:00:00.000000000',\n",
       "       '2001-09-19T00:00:00.000000000', '2002-07-15T00:00:00.000000000',\n",
       "       '2002-07-18T00:00:00.000000000', '2002-04-24T00:00:00.000000000',\n",
       "       '2002-07-29T00:00:00.000000000', '2002-07-25T00:00:00.000000000',\n",
       "       '2002-03-13T00:00:00.000000000', '2003-11-21T00:00:00.000000000',\n",
       "       '2003-08-28T00:00:00.000000000', '2002-10-11T00:00:00.000000000',\n",
       "       '2002-09-24T00:00:00.000000000', '2002-09-25T00:00:00.000000000',\n",
       "       '2003-05-29T00:00:00.000000000', '2002-05-21T00:00:00.000000000',\n",
       "       '2003-06-09T00:00:00.000000000', '2003-10-31T00:00:00.000000000',\n",
       "       '2002-06-06T00:00:00.000000000', '2004-01-16T00:00:00.000000000',\n",
       "       '2002-01-17T00:00:00.000000000', '2002-04-08T00:00:00.000000000',\n",
       "       '2001-11-29T00:00:00.000000000', '2003-01-21T00:00:00.000000000',\n",
       "       '2002-08-15T00:00:00.000000000', '2002-08-14T00:00:00.000000000',\n",
       "       '2004-01-15T00:00:00.000000000', '2002-03-20T00:00:00.000000000',\n",
       "       '2002-03-19T00:00:00.000000000', '2003-07-08T00:00:00.000000000',\n",
       "       '2003-02-27T00:00:00.000000000', '2003-03-11T00:00:00.000000000',\n",
       "       '2003-02-24T00:00:00.000000000', '2003-02-18T00:00:00.000000000',\n",
       "       '2002-05-02T00:00:00.000000000', '2002-02-27T00:00:00.000000000',\n",
       "       '2002-07-31T00:00:00.000000000', '2002-06-27T00:00:00.000000000',\n",
       "       '2002-03-08T00:00:00.000000000', '2002-07-05T00:00:00.000000000',\n",
       "       '2002-10-18T00:00:00.000000000', '2003-02-03T00:00:00.000000000',\n",
       "       '2004-02-06T00:00:00.000000000', '2003-12-03T00:00:00.000000000',\n",
       "       '2003-05-09T00:00:00.000000000', '2002-08-23T00:00:00.000000000',\n",
       "       '2003-08-14T00:00:00.000000000', '2003-08-13T00:00:00.000000000',\n",
       "       '2002-02-26T00:00:00.000000000', '2003-05-21T00:00:00.000000000',\n",
       "       '2003-02-10T00:00:00.000000000', '2002-06-14T00:00:00.000000000',\n",
       "       '2002-01-23T00:00:00.000000000', '2003-10-16T00:00:00.000000000',\n",
       "       '2003-11-18T00:00:00.000000000', '2003-07-23T00:00:00.000000000',\n",
       "       '2002-03-26T00:00:00.000000000', '2003-01-17T00:00:00.000000000',\n",
       "       '2002-04-10T00:00:00.000000000', '2002-04-15T00:00:00.000000000',\n",
       "       '2004-01-20T00:00:00.000000000', '2003-02-21T00:00:00.000000000',\n",
       "       '2002-11-14T00:00:00.000000000', '2004-04-22T00:00:00.000000000',\n",
       "       '2003-05-12T00:00:00.000000000', '2004-04-23T00:00:00.000000000',\n",
       "       '2004-04-26T00:00:00.000000000', '2003-05-08T00:00:00.000000000',\n",
       "       '2004-04-27T00:00:00.000000000', '2004-03-19T00:00:00.000000000',\n",
       "       '2003-06-10T00:00:00.000000000', '2003-07-21T00:00:00.000000000',\n",
       "       '2003-03-12T00:00:00.000000000', '2004-03-31T00:00:00.000000000',\n",
       "       '2003-10-07T00:00:00.000000000', '2003-12-29T00:00:00.000000000',\n",
       "       '2003-12-17T00:00:00.000000000', '2003-09-19T00:00:00.000000000',\n",
       "       '2002-07-26T00:00:00.000000000', '2003-12-19T00:00:00.000000000',\n",
       "       '2002-09-10T00:00:00.000000000', '2002-01-25T00:00:00.000000000',\n",
       "       '2003-01-29T00:00:00.000000000', '2002-03-21T00:00:00.000000000',\n",
       "       '2002-12-16T00:00:00.000000000', '2002-02-04T00:00:00.000000000',\n",
       "       '2002-02-08T00:00:00.000000000', '2002-03-14T00:00:00.000000000',\n",
       "       '2003-01-16T00:00:00.000000000', '2002-09-13T00:00:00.000000000',\n",
       "       '2002-01-11T00:00:00.000000000', '2002-02-01T00:00:00.000000000',\n",
       "       '2003-02-06T00:00:00.000000000', '2001-11-22T00:00:00.000000000',\n",
       "       '2001-12-14T00:00:00.000000000', '2001-12-04T00:00:00.000000000',\n",
       "       '2002-09-09T00:00:00.000000000', '2003-03-17T00:00:00.000000000',\n",
       "       '2001-08-09T00:00:00.000000000', '2001-08-06T00:00:00.000000000',\n",
       "       '2002-10-14T00:00:00.000000000', '2001-12-03T00:00:00.000000000',\n",
       "       '2003-01-31T00:00:00.000000000', '2002-11-15T00:00:00.000000000',\n",
       "       '2001-11-30T00:00:00.000000000', '2003-01-02T00:00:00.000000000',\n",
       "       '2002-12-18T00:00:00.000000000', '2002-01-30T00:00:00.000000000',\n",
       "       '2003-03-21T00:00:00.000000000', '2001-09-21T00:00:00.000000000',\n",
       "       '2003-03-25T00:00:00.000000000', '2001-10-11T00:00:00.000000000',\n",
       "       '2002-04-25T00:00:00.000000000', '2003-05-14T00:00:00.000000000',\n",
       "       '2002-11-18T00:00:00.000000000', '2002-01-09T00:00:00.000000000',\n",
       "       '2002-01-28T00:00:00.000000000', '2001-11-13T00:00:00.000000000'],\n",
       "      dtype='datetime64[ns]')"
      ]
     },
     "execution_count": 7,
     "metadata": {},
     "output_type": "execute_result"
    }
   ],
   "source": [
    "df['date_of_change'] = pd.to_datetime(df['date_of_change'])\n",
    "df['date_of_change'].unique()"
   ]
  },
  {
   "cell_type": "markdown",
   "metadata": {},
   "source": [
    "I've actually decided to drop this column as it doesn't add much to the data."
   ]
  },
  {
   "cell_type": "code",
   "execution_count": 8,
   "metadata": {},
   "outputs": [],
   "source": [
    "df = df.drop(columns=['date_of_change'])"
   ]
  },
  {
   "cell_type": "markdown",
   "metadata": {},
   "source": [
    "# Numeric columns"
   ]
  },
  {
   "cell_type": "code",
   "execution_count": 9,
   "metadata": {},
   "outputs": [
    {
     "data": {
      "text/plain": [
       "Index(['year', 'euro_standard', 'tax_band', 'engine_capacity', 'urban_metric',\n",
       "       'extra_urban_metric', 'combined_metric', 'urban_imperial',\n",
       "       'extra_urban_imperial', 'combined_imperial', 'noise_level', 'co2',\n",
       "       'thc_emissions', 'co_emissions', 'nox_emissions', 'thc_nox_emissions',\n",
       "       'particulates_emissions', 'fuel_cost_12000_miles',\n",
       "       'fuel_cost_6000_miles', 'standard_12_months', 'standard_6_months',\n",
       "       'first_year_12_months', 'first_year_6_months'],\n",
       "      dtype='object')"
      ]
     },
     "execution_count": 9,
     "metadata": {},
     "output_type": "execute_result"
    }
   ],
   "source": [
    "numeric_columns = df.select_dtypes(exclude=['object']).columns\n",
    "numeric_columns"
   ]
  },
  {
   "cell_type": "code",
   "execution_count": 10,
   "metadata": {},
   "outputs": [
    {
     "data": {
      "text/plain": [
       "year                      45511\n",
       "euro_standard             45511\n",
       "tax_band                   7515\n",
       "engine_capacity           45504\n",
       "urban_metric              45498\n",
       "extra_urban_metric        45498\n",
       "combined_metric           45504\n",
       "urban_imperial            45498\n",
       "extra_urban_imperial      45498\n",
       "combined_imperial         45504\n",
       "noise_level               45502\n",
       "co2                       45511\n",
       "thc_emissions             23190\n",
       "co_emissions              45192\n",
       "nox_emissions             40150\n",
       "thc_nox_emissions          5430\n",
       "particulates_emissions    14801\n",
       "fuel_cost_12000_miles     33136\n",
       "fuel_cost_6000_miles      12200\n",
       "standard_12_months         3517\n",
       "standard_6_months          2926\n",
       "first_year_12_months       3517\n",
       "first_year_6_months        1419\n",
       "dtype: int64"
      ]
     },
     "execution_count": 10,
     "metadata": {},
     "output_type": "execute_result"
    }
   ],
   "source": [
    "df[numeric_columns].count()"
   ]
  },
  {
   "cell_type": "markdown",
   "metadata": {},
   "source": [
    "The first 6 columns have no missing values, then there's the tax band, which we want to base our model on. Then there's about 12 columns with a few missing cell, and there's about 10 with a lot of missing values.\n",
    "\n",
    "It's hard to say, but it seems like the columns with a lot of missing values aren't the most relevant, but there's no reason to remove them as it's possible to just fill them with averages. They will get diluted, but since they're not the most important ones, that doesn't matter too much."
   ]
  },
  {
   "cell_type": "code",
   "execution_count": 11,
   "metadata": {},
   "outputs": [
    {
     "data": {
      "text/plain": [
       "year                      45511\n",
       "euro_standard             45511\n",
       "engine_capacity           45511\n",
       "urban_metric              45511\n",
       "extra_urban_metric        45511\n",
       "combined_metric           45511\n",
       "urban_imperial            45511\n",
       "extra_urban_imperial      45511\n",
       "combined_imperial         45511\n",
       "noise_level               45511\n",
       "co2                       45511\n",
       "thc_emissions             45511\n",
       "co_emissions              45511\n",
       "nox_emissions             45511\n",
       "thc_nox_emissions         45511\n",
       "particulates_emissions    45511\n",
       "fuel_cost_12000_miles     45511\n",
       "fuel_cost_6000_miles      45511\n",
       "standard_12_months        45511\n",
       "standard_6_months         45511\n",
       "first_year_12_months      45511\n",
       "first_year_6_months       45511\n",
       "dtype: int64"
      ]
     },
     "execution_count": 11,
     "metadata": {},
     "output_type": "execute_result"
    }
   ],
   "source": [
    "numeric_columns = numeric_columns.drop('tax_band') # dropping tax_band column from list to fill\n",
    "df[numeric_columns] = df[numeric_columns].fillna(df.mean()) # fill those columns with mean of column\n",
    "df[numeric_columns].count()"
   ]
  },
  {
   "cell_type": "markdown",
   "metadata": {},
   "source": [
    "# Object colums"
   ]
  },
  {
   "cell_type": "code",
   "execution_count": 12,
   "metadata": {},
   "outputs": [
    {
     "data": {
      "text/plain": [
       "file                       object\n",
       "year                        int64\n",
       "manufacturer               object\n",
       "model                      object\n",
       "description                object\n",
       "euro_standard               int64\n",
       "tax_band                  float64\n",
       "transmission               object\n",
       "transmission_type          object\n",
       "engine_capacity           float64\n",
       "fuel_type                  object\n",
       "urban_metric              float64\n",
       "extra_urban_metric        float64\n",
       "combined_metric           float64\n",
       "urban_imperial            float64\n",
       "extra_urban_imperial      float64\n",
       "combined_imperial         float64\n",
       "noise_level               float64\n",
       "co2                         int64\n",
       "thc_emissions             float64\n",
       "co_emissions              float64\n",
       "nox_emissions             float64\n",
       "thc_nox_emissions         float64\n",
       "particulates_emissions    float64\n",
       "fuel_cost_12000_miles     float64\n",
       "fuel_cost_6000_miles      float64\n",
       "standard_12_months        float64\n",
       "standard_6_months         float64\n",
       "first_year_12_months      float64\n",
       "first_year_6_months       float64\n",
       "dtype: object"
      ]
     },
     "execution_count": 12,
     "metadata": {},
     "output_type": "execute_result"
    }
   ],
   "source": [
    "df.dtypes # check all dtypes"
   ]
  },
  {
   "cell_type": "code",
   "execution_count": 13,
   "metadata": {
    "scrolled": false
   },
   "outputs": [
    {
     "data": {
      "text/plain": [
       "Index(['file', 'manufacturer', 'model', 'description', 'transmission',\n",
       "       'transmission_type', 'fuel_type'],\n",
       "      dtype='object')"
      ]
     },
     "execution_count": 13,
     "metadata": {},
     "output_type": "execute_result"
    }
   ],
   "source": [
    "df.select_dtypes(include=['object']).columns # get object columns"
   ]
  },
  {
   "cell_type": "markdown",
   "metadata": {},
   "source": [
    "## Column: file"
   ]
  },
  {
   "cell_type": "code",
   "execution_count": 14,
   "metadata": {},
   "outputs": [
    {
     "data": {
      "text/plain": [
       "array(['DatapartC_july2000.csv', 'DataPartB_july2000.csv',\n",
       "       'DataPartA_july2000.csv', 'Part_B_Euro_III_july2001.csv',\n",
       "       'Part_C_Euro_II_july2001.csv', 'Part_A_Euro_IV_july2001.csv',\n",
       "       'Part_B_Euro_III_may2002.csv', 'Part_A_Euro_IV_may2002.csv',\n",
       "       'Part_C_Euro_II_may2002.csv', 'Part_B_Euro_III_may2003.csv',\n",
       "       'Part_A_Euro_IV_may2003.csv', 'Part_B_Euro_III_latest.csv',\n",
       "       'Part_A_Euro_IV_latest.csv', 'Part_B_Euro_III_may2005.csv',\n",
       "       'Part_A_Euro_IV_may2005.csv', 'Part_A_Euro_IV_may2006.csv',\n",
       "       'Part_B_Euro_III_may2006.csv', 'Part_A_Euro_IV_may2007.csv',\n",
       "       'Part_B_Euro_III_may2007.csv', 'Part_A_Euro_IV_may2008.csv',\n",
       "       'download-data-for-May-2009-Euro-4.csv',\n",
       "       'download-data-for-May-2009-Euro-5.csv',\n",
       "       'download-data-for-May-2010-Euro-5.csv',\n",
       "       'download-data-for-May-2010-Euro-4.csv',\n",
       "       'Euro 5 snapshot 2011.csv', 'Euro 4 snapshot 2011.csv',\n",
       "       'Euro 6 snapshot 2011.csv',\n",
       "       'download-data-for-Aug-2012-Euro-5.csv',\n",
       "       'download-data-for-Aug-2012-Euro-6.csv',\n",
       "       'download-data-for-Aug-2012-Euro-4.csv',\n",
       "       'download-data-for-Aug-2013-Euro-5.csv',\n",
       "       'download-data-for-Aug-2013-Euro-6.csv'], dtype=object)"
      ]
     },
     "execution_count": 14,
     "metadata": {},
     "output_type": "execute_result"
    }
   ],
   "source": [
    "df['file'].unique() # check data from file column"
   ]
  },
  {
   "cell_type": "markdown",
   "metadata": {},
   "source": [
    "I don't think this info is necessarily usefull, so I'll drop this table\n",
    "\n",
    "## Column: manufacturer"
   ]
  },
  {
   "cell_type": "code",
   "execution_count": 15,
   "metadata": {},
   "outputs": [
    {
     "data": {
      "text/plain": [
       "array(['Alfa Romeo', 'Aston Martin Lagonda', 'Audi', 'BMW', 'Cadillac',\n",
       "       'Chevrolet', 'Chrysler Jeep', 'Citroen', 'Daewoo Cars', 'Daihatsu',\n",
       "       'Ferrari', 'Fiat', 'Ford', 'Honda', 'Hyundai', 'Isuzu',\n",
       "       'Jaguar Cars', 'Kia', 'Lamborghini', 'Land Rover', 'Lexus',\n",
       "       'Lotus', 'LTI', 'Maserati', 'Mazda', 'Mercedes-Benz', 'Metrocab',\n",
       "       'Micro Compact Car', 'Mitsubishi', 'Nissan', 'Perodua', 'Peugeot',\n",
       "       'Porsche', 'Proton', 'Renault', 'Rolls-Royce',\n",
       "       'Rover Group Limited', 'Saab', 'Seat', 'Skoda', 'Subaru', 'Suzuki',\n",
       "       'Tata', 'Toyota', 'Vauxhall', 'Volkswagen', 'Volvo',\n",
       "       'MG Rover Group', 'Mini', 'Morgan Motor Company', 'Bentley Motors',\n",
       "       'Smart', 'SsangYong', 'Corvette', 'Dodge', 'Hummer', 'Abarth',\n",
       "       'Infiniti', 'MG Motors Uk', 'McLaren', 'Dacia', 'MG Motors UK'],\n",
       "      dtype=object)"
      ]
     },
     "execution_count": 15,
     "metadata": {},
     "output_type": "execute_result"
    }
   ],
   "source": [
    "df['manufacturer'].unique() # check data from file column"
   ]
  },
  {
   "cell_type": "markdown",
   "metadata": {},
   "source": [
    "I don't think this information will be usefull in our model, but it will be useful for further investigation of the data.\n",
    "\n",
    "## Column: model"
   ]
  },
  {
   "cell_type": "code",
   "execution_count": 16,
   "metadata": {},
   "outputs": [
    {
     "data": {
      "text/plain": [
       "(2649,)"
      ]
     },
     "execution_count": 16,
     "metadata": {},
     "output_type": "execute_result"
    }
   ],
   "source": [
    "df['model'].unique().shape # check data from file column"
   ]
  },
  {
   "cell_type": "markdown",
   "metadata": {},
   "source": [
    "That's a lot of dummies, so I'll leave it out, but I might try if the r2 scores are low\n",
    "\n",
    "## Column: description"
   ]
  },
  {
   "cell_type": "code",
   "execution_count": 17,
   "metadata": {},
   "outputs": [
    {
     "data": {
      "text/plain": [
       "(14989,)"
      ]
     },
     "execution_count": 17,
     "metadata": {},
     "output_type": "execute_result"
    }
   ],
   "source": [
    "df['description'].unique().shape"
   ]
  },
  {
   "cell_type": "markdown",
   "metadata": {},
   "source": [
    "Not usefull\n",
    "\n",
    "## Column: transmission"
   ]
  },
  {
   "cell_type": "code",
   "execution_count": 18,
   "metadata": {},
   "outputs": [
    {
     "data": {
      "text/plain": [
       "array(['M5', 'SAT5', 'M6', 'A4', 'A5', 'QM6', 'QA5', 'QM5', 'QM', 'QA',\n",
       "       'FA5', 'FM5', 'FA4', 'A3', 'CVT', 'A', '4SS', 'M4', 'SAT 5', '5MT',\n",
       "       '4AT', 'M5x2', 'M5/s', 'SM6', 'A6', 'MT', 'AT', 'M5N', 'A4L',\n",
       "       'M5NE', 'A4NE', '3AT', '5MTx2', '4ATx2', 'A4x2', 'M', 'AV', 'QA6',\n",
       "       'SS5', 'S/A6', 'M3', 'MTA', 'SAT6', 'Hybrid', 'QD6', 'D6',\n",
       "       'A/SAT5', 'ASM', 'A5x2', 'M6/S6', 'A7', 'Multi5', 'E-CVT',\n",
       "       'Electric', 'm5', 'SMG 7', '6MT', '5A/Tx2', 'M6x2', '5AT', '6AMT',\n",
       "       '5 AMT', 'MTA5', 'i-SHIFT', 'A8', 'DCT7', 'M6-AWD', 'S6', 'A6x2',\n",
       "       'D7', 'M7', 'A5-AWD', 'MultiDrive', 'MTA6', 'QD7', 'A6-AWD', 'DM6',\n",
       "       'MCVT', 'Semi-Auto', 'AM5', 'Multi6', 'MultiDriv', 'DCT6', 'ET5',\n",
       "       'QA8', '6AT', 'AMT6', 'AMT5', '7SP. SSG', 'ASM  ', nan, 'M8',\n",
       "       'A8-AWD'], dtype=object)"
      ]
     },
     "execution_count": 18,
     "metadata": {},
     "output_type": "execute_result"
    }
   ],
   "source": [
    "df['transmission'].unique()"
   ]
  },
  {
   "cell_type": "markdown",
   "metadata": {},
   "source": [
    "This will be usefull info, so I'm going to create dummies for it. \n",
    "\n",
    "## Column: transmission_type"
   ]
  },
  {
   "cell_type": "code",
   "execution_count": 19,
   "metadata": {},
   "outputs": [
    {
     "data": {
      "text/plain": [
       "array(['Manual', 'Automatic', nan], dtype=object)"
      ]
     },
     "execution_count": 19,
     "metadata": {},
     "output_type": "execute_result"
    }
   ],
   "source": [
    "df['transmission_type'].unique() # check data from transmission_type column"
   ]
  },
  {
   "cell_type": "markdown",
   "metadata": {},
   "source": [
    "Usefull info, I don't think nan would mean anything here, so I'm not creating a column for that\n",
    "\n",
    "## Column: fuel_type"
   ]
  },
  {
   "cell_type": "code",
   "execution_count": 20,
   "metadata": {},
   "outputs": [
    {
     "data": {
      "text/plain": [
       "array(['Petrol', 'Diesel', 'LPG', 'Petrol Hybrid', 'CNG',\n",
       "       'Petrol Electric', 'LPG / Petrol', 'Petrol / E85 (Flex Fuel)',\n",
       "       'Petrol / E85', 'Diesel Electric', 'Electricity/Petrol',\n",
       "       'Electricity', 'Electricity/Diesel'], dtype=object)"
      ]
     },
     "execution_count": 20,
     "metadata": {},
     "output_type": "execute_result"
    }
   ],
   "source": [
    "df['fuel_type'].unique() # check data from transmission_type column"
   ]
  },
  {
   "cell_type": "markdown",
   "metadata": {},
   "source": [
    "That'll be usefull information as well and not creating a lot of dummies\n",
    "\n",
    "## Summary\n",
    "- file: drop, because useless;\n",
    "- manufacturer: drop for model, but save for further investigation.\n",
    "- model: drop, because too many, but return if low r2;\n",
    "- description: drop, because useless and too many;\n",
    "- transmission: create dummies, without nan, as that doesn't mean much. I also noticed two versions, 'ASM' and 'ASM ', so I'll combine those first.\n",
    "- transmission_type: create dummies, without nan, as that doesn't mean anything (unless it means you have to push the car, which is very energy efficient).\n",
    "- fuel_type: create dummies;"
   ]
  },
  {
   "cell_type": "code",
   "execution_count": 21,
   "metadata": {},
   "outputs": [],
   "source": [
    "df = df.drop(['file', 'model', 'description'], axis=1) # dropping columns"
   ]
  },
  {
   "cell_type": "code",
   "execution_count": 22,
   "metadata": {},
   "outputs": [],
   "source": [
    "manufacturer_column = df['manufacturer'] # save manufacturer column\n",
    "df = df.drop(['manufacturer'], axis=1)\n",
    "# manufacturer_dummies = pd.get_dummies(df['manufacturer'], prefix='manufacturer') # create manufacturer dummies\n",
    "# df = pd.concat([df, manufacturer_dummies], axis=1).drop(['manufacturer'], axis=1) # append dummies and remove original"
   ]
  },
  {
   "cell_type": "code",
   "execution_count": 23,
   "metadata": {},
   "outputs": [],
   "source": [
    "df['transmission'] = df['transmission'].replace({'ASM  ': 'ASM'}) # replace 'ASM  ' with 'ASM', note the empty spaces\n",
    "transmission_dummies = pd.get_dummies(df['transmission'], prefix='transmission')\n",
    "df = pd.concat([df, transmission_dummies], axis=1).drop(['transmission'], axis=1)"
   ]
  },
  {
   "cell_type": "code",
   "execution_count": 24,
   "metadata": {},
   "outputs": [],
   "source": [
    "transmission_type_dummies = pd.get_dummies(df['transmission_type'], prefix='transmission_type')\n",
    "df = pd.concat([df, transmission_type_dummies], axis=1).drop(['transmission_type'], axis=1)"
   ]
  },
  {
   "cell_type": "code",
   "execution_count": 25,
   "metadata": {},
   "outputs": [],
   "source": [
    "fuel_type_dummies = pd.get_dummies(df['fuel_type'], prefix='fuel_type')\n",
    "df = pd.concat([df, fuel_type_dummies], axis=1).drop(['fuel_type'], axis=1)"
   ]
  },
  {
   "cell_type": "markdown",
   "metadata": {},
   "source": [
    "# Model"
   ]
  },
  {
   "cell_type": "code",
   "execution_count": 26,
   "metadata": {},
   "outputs": [
    {
     "data": {
      "text/html": [
       "<div>\n",
       "<style scoped>\n",
       "    .dataframe tbody tr th:only-of-type {\n",
       "        vertical-align: middle;\n",
       "    }\n",
       "\n",
       "    .dataframe tbody tr th {\n",
       "        vertical-align: top;\n",
       "    }\n",
       "\n",
       "    .dataframe thead th {\n",
       "        text-align: right;\n",
       "    }\n",
       "</style>\n",
       "<table border=\"1\" class=\"dataframe\">\n",
       "  <thead>\n",
       "    <tr style=\"text-align: right;\">\n",
       "      <th></th>\n",
       "      <th>year</th>\n",
       "      <th>euro_standard</th>\n",
       "      <th>tax_band</th>\n",
       "      <th>engine_capacity</th>\n",
       "      <th>urban_metric</th>\n",
       "      <th>extra_urban_metric</th>\n",
       "      <th>combined_metric</th>\n",
       "      <th>urban_imperial</th>\n",
       "      <th>extra_urban_imperial</th>\n",
       "      <th>combined_imperial</th>\n",
       "      <th>...</th>\n",
       "      <th>fuel_type_Electricity</th>\n",
       "      <th>fuel_type_Electricity/Diesel</th>\n",
       "      <th>fuel_type_Electricity/Petrol</th>\n",
       "      <th>fuel_type_LPG</th>\n",
       "      <th>fuel_type_LPG / Petrol</th>\n",
       "      <th>fuel_type_Petrol</th>\n",
       "      <th>fuel_type_Petrol / E85</th>\n",
       "      <th>fuel_type_Petrol / E85 (Flex Fuel)</th>\n",
       "      <th>fuel_type_Petrol Electric</th>\n",
       "      <th>fuel_type_Petrol Hybrid</th>\n",
       "    </tr>\n",
       "  </thead>\n",
       "  <tbody>\n",
       "    <tr>\n",
       "      <th>count</th>\n",
       "      <td>45511.000000</td>\n",
       "      <td>45511.000000</td>\n",
       "      <td>7515.000000</td>\n",
       "      <td>45511.000000</td>\n",
       "      <td>45511.000000</td>\n",
       "      <td>45511.000000</td>\n",
       "      <td>45511.000000</td>\n",
       "      <td>45511.000000</td>\n",
       "      <td>45511.000000</td>\n",
       "      <td>45511.000000</td>\n",
       "      <td>...</td>\n",
       "      <td>45511.000000</td>\n",
       "      <td>45511.000000</td>\n",
       "      <td>45511.000000</td>\n",
       "      <td>45511.000000</td>\n",
       "      <td>45511.000000</td>\n",
       "      <td>45511.000000</td>\n",
       "      <td>45511.000000</td>\n",
       "      <td>45511.000000</td>\n",
       "      <td>45511.000000</td>\n",
       "      <td>45511.000000</td>\n",
       "    </tr>\n",
       "    <tr>\n",
       "      <th>mean</th>\n",
       "      <td>2007.316055</td>\n",
       "      <td>3.969282</td>\n",
       "      <td>5.966334</td>\n",
       "      <td>2182.770526</td>\n",
       "      <td>10.472676</td>\n",
       "      <td>6.139602</td>\n",
       "      <td>7.721963</td>\n",
       "      <td>30.527557</td>\n",
       "      <td>49.139714</td>\n",
       "      <td>40.048475</td>\n",
       "      <td>...</td>\n",
       "      <td>0.000154</td>\n",
       "      <td>0.000022</td>\n",
       "      <td>0.000110</td>\n",
       "      <td>0.003230</td>\n",
       "      <td>0.000286</td>\n",
       "      <td>0.603019</td>\n",
       "      <td>0.001582</td>\n",
       "      <td>0.002988</td>\n",
       "      <td>0.000374</td>\n",
       "      <td>0.002878</td>\n",
       "    </tr>\n",
       "    <tr>\n",
       "      <th>std</th>\n",
       "      <td>3.832559</td>\n",
       "      <td>0.838025</td>\n",
       "      <td>2.783953</td>\n",
       "      <td>899.031520</td>\n",
       "      <td>3.984375</td>\n",
       "      <td>1.783128</td>\n",
       "      <td>2.503688</td>\n",
       "      <td>10.622227</td>\n",
       "      <td>12.187917</td>\n",
       "      <td>11.868659</td>\n",
       "      <td>...</td>\n",
       "      <td>0.012401</td>\n",
       "      <td>0.004688</td>\n",
       "      <td>0.010481</td>\n",
       "      <td>0.056742</td>\n",
       "      <td>0.016899</td>\n",
       "      <td>0.489277</td>\n",
       "      <td>0.039744</td>\n",
       "      <td>0.054584</td>\n",
       "      <td>0.019324</td>\n",
       "      <td>0.053574</td>\n",
       "    </tr>\n",
       "    <tr>\n",
       "      <th>min</th>\n",
       "      <td>2000.000000</td>\n",
       "      <td>2.000000</td>\n",
       "      <td>1.000000</td>\n",
       "      <td>209.000000</td>\n",
       "      <td>3.100000</td>\n",
       "      <td>2.900000</td>\n",
       "      <td>1.200000</td>\n",
       "      <td>6.800000</td>\n",
       "      <td>5.400000</td>\n",
       "      <td>5.900000</td>\n",
       "      <td>...</td>\n",
       "      <td>0.000000</td>\n",
       "      <td>0.000000</td>\n",
       "      <td>0.000000</td>\n",
       "      <td>0.000000</td>\n",
       "      <td>0.000000</td>\n",
       "      <td>0.000000</td>\n",
       "      <td>0.000000</td>\n",
       "      <td>0.000000</td>\n",
       "      <td>0.000000</td>\n",
       "      <td>0.000000</td>\n",
       "    </tr>\n",
       "    <tr>\n",
       "      <th>25%</th>\n",
       "      <td>2004.000000</td>\n",
       "      <td>3.000000</td>\n",
       "      <td>4.000000</td>\n",
       "      <td>1598.000000</td>\n",
       "      <td>7.700000</td>\n",
       "      <td>4.900000</td>\n",
       "      <td>5.900000</td>\n",
       "      <td>22.800000</td>\n",
       "      <td>40.400000</td>\n",
       "      <td>31.400000</td>\n",
       "      <td>...</td>\n",
       "      <td>0.000000</td>\n",
       "      <td>0.000000</td>\n",
       "      <td>0.000000</td>\n",
       "      <td>0.000000</td>\n",
       "      <td>0.000000</td>\n",
       "      <td>0.000000</td>\n",
       "      <td>0.000000</td>\n",
       "      <td>0.000000</td>\n",
       "      <td>0.000000</td>\n",
       "      <td>0.000000</td>\n",
       "    </tr>\n",
       "    <tr>\n",
       "      <th>50%</th>\n",
       "      <td>2008.000000</td>\n",
       "      <td>4.000000</td>\n",
       "      <td>6.000000</td>\n",
       "      <td>1988.000000</td>\n",
       "      <td>9.800000</td>\n",
       "      <td>5.900000</td>\n",
       "      <td>7.300000</td>\n",
       "      <td>28.800000</td>\n",
       "      <td>47.900000</td>\n",
       "      <td>38.700000</td>\n",
       "      <td>...</td>\n",
       "      <td>0.000000</td>\n",
       "      <td>0.000000</td>\n",
       "      <td>0.000000</td>\n",
       "      <td>0.000000</td>\n",
       "      <td>0.000000</td>\n",
       "      <td>1.000000</td>\n",
       "      <td>0.000000</td>\n",
       "      <td>0.000000</td>\n",
       "      <td>0.000000</td>\n",
       "      <td>0.000000</td>\n",
       "    </tr>\n",
       "    <tr>\n",
       "      <th>75%</th>\n",
       "      <td>2011.000000</td>\n",
       "      <td>5.000000</td>\n",
       "      <td>8.000000</td>\n",
       "      <td>2429.000000</td>\n",
       "      <td>12.400000</td>\n",
       "      <td>7.000000</td>\n",
       "      <td>9.000000</td>\n",
       "      <td>36.700000</td>\n",
       "      <td>57.600000</td>\n",
       "      <td>47.900000</td>\n",
       "      <td>...</td>\n",
       "      <td>0.000000</td>\n",
       "      <td>0.000000</td>\n",
       "      <td>0.000000</td>\n",
       "      <td>0.000000</td>\n",
       "      <td>0.000000</td>\n",
       "      <td>1.000000</td>\n",
       "      <td>0.000000</td>\n",
       "      <td>0.000000</td>\n",
       "      <td>0.000000</td>\n",
       "      <td>0.000000</td>\n",
       "    </tr>\n",
       "    <tr>\n",
       "      <th>max</th>\n",
       "      <td>2013.000000</td>\n",
       "      <td>6.000000</td>\n",
       "      <td>12.000000</td>\n",
       "      <td>8285.000000</td>\n",
       "      <td>41.200000</td>\n",
       "      <td>97.900000</td>\n",
       "      <td>44.000000</td>\n",
       "      <td>91.100000</td>\n",
       "      <td>97.400000</td>\n",
       "      <td>235.400000</td>\n",
       "      <td>...</td>\n",
       "      <td>1.000000</td>\n",
       "      <td>1.000000</td>\n",
       "      <td>1.000000</td>\n",
       "      <td>1.000000</td>\n",
       "      <td>1.000000</td>\n",
       "      <td>1.000000</td>\n",
       "      <td>1.000000</td>\n",
       "      <td>1.000000</td>\n",
       "      <td>1.000000</td>\n",
       "      <td>1.000000</td>\n",
       "    </tr>\n",
       "  </tbody>\n",
       "</table>\n",
       "<p>8 rows × 129 columns</p>\n",
       "</div>"
      ],
      "text/plain": [
       "               year  euro_standard     tax_band  engine_capacity  \\\n",
       "count  45511.000000   45511.000000  7515.000000     45511.000000   \n",
       "mean    2007.316055       3.969282     5.966334      2182.770526   \n",
       "std        3.832559       0.838025     2.783953       899.031520   \n",
       "min     2000.000000       2.000000     1.000000       209.000000   \n",
       "25%     2004.000000       3.000000     4.000000      1598.000000   \n",
       "50%     2008.000000       4.000000     6.000000      1988.000000   \n",
       "75%     2011.000000       5.000000     8.000000      2429.000000   \n",
       "max     2013.000000       6.000000    12.000000      8285.000000   \n",
       "\n",
       "       urban_metric  extra_urban_metric  combined_metric  urban_imperial  \\\n",
       "count  45511.000000        45511.000000     45511.000000    45511.000000   \n",
       "mean      10.472676            6.139602         7.721963       30.527557   \n",
       "std        3.984375            1.783128         2.503688       10.622227   \n",
       "min        3.100000            2.900000         1.200000        6.800000   \n",
       "25%        7.700000            4.900000         5.900000       22.800000   \n",
       "50%        9.800000            5.900000         7.300000       28.800000   \n",
       "75%       12.400000            7.000000         9.000000       36.700000   \n",
       "max       41.200000           97.900000        44.000000       91.100000   \n",
       "\n",
       "       extra_urban_imperial  combined_imperial  ...  fuel_type_Electricity  \\\n",
       "count          45511.000000       45511.000000  ...           45511.000000   \n",
       "mean              49.139714          40.048475  ...               0.000154   \n",
       "std               12.187917          11.868659  ...               0.012401   \n",
       "min                5.400000           5.900000  ...               0.000000   \n",
       "25%               40.400000          31.400000  ...               0.000000   \n",
       "50%               47.900000          38.700000  ...               0.000000   \n",
       "75%               57.600000          47.900000  ...               0.000000   \n",
       "max               97.400000         235.400000  ...               1.000000   \n",
       "\n",
       "       fuel_type_Electricity/Diesel  fuel_type_Electricity/Petrol  \\\n",
       "count                  45511.000000                  45511.000000   \n",
       "mean                       0.000022                      0.000110   \n",
       "std                        0.004688                      0.010481   \n",
       "min                        0.000000                      0.000000   \n",
       "25%                        0.000000                      0.000000   \n",
       "50%                        0.000000                      0.000000   \n",
       "75%                        0.000000                      0.000000   \n",
       "max                        1.000000                      1.000000   \n",
       "\n",
       "       fuel_type_LPG  fuel_type_LPG / Petrol  fuel_type_Petrol  \\\n",
       "count   45511.000000            45511.000000      45511.000000   \n",
       "mean        0.003230                0.000286          0.603019   \n",
       "std         0.056742                0.016899          0.489277   \n",
       "min         0.000000                0.000000          0.000000   \n",
       "25%         0.000000                0.000000          0.000000   \n",
       "50%         0.000000                0.000000          1.000000   \n",
       "75%         0.000000                0.000000          1.000000   \n",
       "max         1.000000                1.000000          1.000000   \n",
       "\n",
       "       fuel_type_Petrol / E85  fuel_type_Petrol / E85 (Flex Fuel)  \\\n",
       "count            45511.000000                        45511.000000   \n",
       "mean                 0.001582                            0.002988   \n",
       "std                  0.039744                            0.054584   \n",
       "min                  0.000000                            0.000000   \n",
       "25%                  0.000000                            0.000000   \n",
       "50%                  0.000000                            0.000000   \n",
       "75%                  0.000000                            0.000000   \n",
       "max                  1.000000                            1.000000   \n",
       "\n",
       "       fuel_type_Petrol Electric  fuel_type_Petrol Hybrid  \n",
       "count               45511.000000             45511.000000  \n",
       "mean                    0.000374                 0.002878  \n",
       "std                     0.019324                 0.053574  \n",
       "min                     0.000000                 0.000000  \n",
       "25%                     0.000000                 0.000000  \n",
       "50%                     0.000000                 0.000000  \n",
       "75%                     0.000000                 0.000000  \n",
       "max                     1.000000                 1.000000  \n",
       "\n",
       "[8 rows x 129 columns]"
      ]
     },
     "execution_count": 26,
     "metadata": {},
     "output_type": "execute_result"
    }
   ],
   "source": [
    "df.describe()"
   ]
  },
  {
   "cell_type": "markdown",
   "metadata": {},
   "source": [
    "The tax_band seems to be the only column with missing values. It would actually be interesting to see how well we can model the tax_band, and if we can model it well, use the model to assign labels to the remaining cars. So let's get onto that."
   ]
  },
  {
   "cell_type": "code",
   "execution_count": 27,
   "metadata": {},
   "outputs": [
    {
     "data": {
      "text/plain": [
       "'The r-squared score for your model was 0.9694087079573955 on 2255 values.'"
      ]
     },
     "execution_count": 27,
     "metadata": {},
     "output_type": "execute_result"
    }
   ],
   "source": [
    "df_tax_band = df.dropna()\n",
    "\n",
    "# Split into explanatory and response variables\n",
    "X = df_tax_band.drop(columns=['tax_band'])\n",
    "y = df_tax_band['tax_band']\n",
    "\n",
    "# Split into train and test\n",
    "X_train, X_test, y_train, y_test = train_test_split(X, y, test_size = .30, random_state=42)\n",
    "lm_model = LinearRegression(normalize=True) # Instantiate\n",
    "lm_model.fit(X_train, y_train) # Fit\n",
    "        \n",
    "# Predict and score the model\n",
    "y_test_preds = lm_model.predict(X_test)\n",
    "\"The r-squared score for your model was {} on {} values.\".format(r2_score(y_test, y_test_preds), len(y_test))"
   ]
  },
  {
   "cell_type": "markdown",
   "metadata": {},
   "source": [
    "This is a great score, so we can definitely use it to label the entries with missing label values."
   ]
  },
  {
   "cell_type": "code",
   "execution_count": 28,
   "metadata": {},
   "outputs": [],
   "source": [
    "# sns.heatmap(df.corr(), fmt='.2f') # no annot=True because there's too many columns.\n",
    "# df.hist()"
   ]
  },
  {
   "cell_type": "code",
   "execution_count": 29,
   "metadata": {},
   "outputs": [
    {
     "name": "stdout",
     "output_type": "stream",
     "text": [
      "(37996, 129) [nan]\n",
      "(37996, 128)\n",
      "-662508142291.4075 2947232356349.795\n"
     ]
    }
   ],
   "source": [
    "df_tax_band_nan = df[df['tax_band'].isnull()] # get\n",
    "print(df_tax_band_nan.shape, df_tax_band_nan['tax_band'].unique()) # check if that worked\n",
    "\n",
    "X_tax_band_nan = df_tax_band_nan.drop(columns=['tax_band'])\n",
    "print(X_tax_band_nan.shape)\n",
    "y_tax_band_preds = lm_model.predict(X_tax_band_nan)\n",
    "print(y_tax_band_preds.min(), y_tax_band_preds.max())"
   ]
  },
  {
   "cell_type": "code",
   "execution_count": 30,
   "metadata": {},
   "outputs": [
    {
     "name": "stdout",
     "output_type": "stream",
     "text": [
      "(37996, 128) (37996,)\n"
     ]
    },
    {
     "data": {
      "text/plain": [
       "(45511, 129)"
      ]
     },
     "execution_count": 30,
     "metadata": {},
     "output_type": "execute_result"
    }
   ],
   "source": [
    "print(X_tax_band_nan.shape, y_tax_band_preds.shape)\n",
    "\n",
    "df_tax_band_pop = df_tax_band.copy() # copy of the rows that had label values\n",
    "df_tax_band_pred = X_tax_band_nan.copy() # copy of the rows that didn't have label values, without the labels\n",
    "df_tax_band_pred['tax_band'] = y_tax_band_preds  # add the predicted values to this df\n",
    "\n",
    "df_total = pd.concat([df_tax_band_pop, df_tax_band_pred]) # concatenate the two\n",
    "df_total.shape"
   ]
  },
  {
   "cell_type": "code",
   "execution_count": 31,
   "metadata": {},
   "outputs": [
    {
     "data": {
      "image/png": "[encoded data removed]",
      "text/plain": [
       "<Figure size 432x288 with 1 Axes>"
      ]
     },
     "metadata": {
      "needs_background": "light"
     },
     "output_type": "display_data"
    }
   ],
   "source": [
    "rollingMean = df_total.groupby('year').mean()\n",
    "rollingMean\n",
    "\n",
    "# We plot the rolling mean ontop of our Google stock data\n",
    "plt.plot(rollingMean)\n",
    "plt.legend(['Average'])\n",
    "plt.show()"
   ]
  },
  {
   "cell_type": "code",
   "execution_count": 73,
   "metadata": {
    "scrolled": true
   },
   "outputs": [
    {
     "data": {
      "image/png": "[encoded data removed]",
      "text/plain": [
       "<Figure size 432x288 with 1 Axes>"
      ]
     },
     "metadata": {
      "needs_background": "light"
     },
     "output_type": "display_data"
    }
   ],
   "source": [
    "df_brand = df_total.copy()\n",
    "df_brand = df_brand.sort_index()\n",
    "df_brand['manufacturer'] = manufacturer_column\n",
    "# df_brand_grouped = df_total.groupby(['manufacturer','year']).mean()\n",
    "# df_brand_grouped\n",
    "\n",
    "brands_to_show = [\n",
    "    'Audi', 'BMW', 'Citroen', 'Ford', 'Hyundai', 'Kia', 'Mercedes-Benz',\n",
    "    'Mitsubishi', 'Nissan', 'Peugeot', 'Renault', 'Seat', 'Skoda', 'Suzuki', 'Toyota','Volkswagen', \n",
    "    'Volvo', 'Smart',\n",
    "]\n",
    "\n",
    "# for man in manufacturer_column.unique():\n",
    "for man in brands_to_show:\n",
    "    man_df = df_brand[df_brand['manufacturer'] == man]\n",
    "    man_grouped = man_df.groupby('year').mean()\n",
    "    plt.plot(man_grouped['tax_band'])\n",
    "\n",
    "# plt.legend(manufacturer_column.unique())\n",
    "plt.legend(brands_to_show)\n",
    "plt.show()"
   ]
  },
  {
   "cell_type": "markdown",
   "metadata": {},
   "source": [
    "# Sorry I'm stuck here and would like some help\n",
    "I'm spend a lot of time trying to figure out why there's number in the negative/positive trillions here as that doesn't really make sense to me. Could you please help me out here?"
   ]
  }
 ],
 "metadata": {
  "kernelspec": {
   "display_name": "venv",
   "language": "python",
   "name": "venv"
  },
  "language_info": {
   "codemirror_mode": {
    "name": "ipython",
    "version": 3
   },
   "file_extension": ".py",
   "mimetype": "text/x-python",
   "name": "python",
   "nbconvert_exporter": "python",
   "pygments_lexer": "ipython3",
   "version": "3.8.5"
  }
 },
 "nbformat": 4,
 "nbformat_minor": 4
}
