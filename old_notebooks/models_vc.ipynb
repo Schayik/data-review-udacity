{
 "cells": [
  {
   "cell_type": "code",
   "execution_count": 6,
   "metadata": {},
   "outputs": [],
   "source": [
    "import pickle\n",
    "import pandas as pd\n",
    "from sqlalchemy import create_engine\n",
    "\n",
    "from sklearn.pipeline import Pipeline\n",
    "from sklearn.metrics import classification_report\n",
    "from sklearn.model_selection import train_test_split, GridSearchCV\n",
    "from sklearn.ensemble import RandomForestClassifier\n",
    "from sklearn.base import BaseEstimator, TransformerMixin"
   ]
  },
  {
   "cell_type": "code",
   "execution_count": 7,
   "metadata": {},
   "outputs": [],
   "source": [
    "def load_data(database_filepath):\n",
    "    \"\"\"Loads the data from a database file and returns the target.\"\"\"\n",
    "\n",
    "    engine = create_engine(f'sqlite:///{database_filepath}')\n",
    "    df = pd.read_sql_table('emissions', engine)\n",
    "\n",
    "    return df"
   ]
  },
  {
   "cell_type": "code",
   "execution_count": 8,
   "metadata": {},
   "outputs": [
    {
     "data": {
      "text/plain": [
       "(45511, 29)"
      ]
     },
     "execution_count": 8,
     "metadata": {},
     "output_type": "execute_result"
    }
   ],
   "source": [
    "df = load_data('../data/emissions.db')\n",
    "df.shape"
   ]
  },
  {
   "cell_type": "code",
   "execution_count": 9,
   "metadata": {},
   "outputs": [],
   "source": [
    "def split_data(df):\n",
    "    \"\"\"\n",
    "    INPUT - df - full car emissions df\n",
    "    \n",
    "    OUTPUT\n",
    "    X_train, X_test, y_train, y_test - test and train sets\n",
    "    X_pop - parameter matrix for given tax band labels\n",
    "    X_nan - parameter matrix of missing tax band values which cannot be used for training and testing the model. y_nan would be an empty\n",
    "    \"\"\"\n",
    "    \n",
    "    df_pop = df.dropna(subset=['tax_band'])\n",
    "    X = df_pop.drop(columns='tax_band')\n",
    "    y = df_pop['tax_band']\n",
    "    \n",
    "    X_train, X_test, y_train, y_test, = train_test_split(X, y)\n",
    "    \n",
    "    df_nan = df[df['tax_band'].isnull()]\n",
    "    X_nan = df_nan.drop(columns='tax_band')\n",
    "\n",
    "    return X_train, X_test, y_train, y_test, df_pop, X_nan"
   ]
  },
  {
   "cell_type": "code",
   "execution_count": 10,
   "metadata": {},
   "outputs": [
    {
     "data": {
      "text/plain": [
       "((5877, 28), (1960, 28), (5877,), (1960,), (7837, 29), (37674, 28))"
      ]
     },
     "execution_count": 10,
     "metadata": {},
     "output_type": "execute_result"
    }
   ],
   "source": [
    "X_train, X_test, y_train, y_test, df_pop, X_nan = split_data(df)\n",
    "X_train.shape, X_test.shape, y_train.shape, y_test.shape, df_pop.shape, X_nan.shape"
   ]
  },
  {
   "cell_type": "code",
   "execution_count": 11,
   "metadata": {},
   "outputs": [
    {
     "data": {
      "text/plain": [
       "BMW                     890\n",
       "Volkswagen              832\n",
       "Mercedes-Benz           770\n",
       "Vauxhall                533\n",
       "Audi                    473\n",
       "Ford                    441\n",
       "Volvo                   432\n",
       "Peugeot                 321\n",
       "Kia                     313\n",
       "Skoda                   306\n",
       "Honda                   227\n",
       "Citroen                 219\n",
       "Mini                    158\n",
       "Porsche                 146\n",
       "Toyota                  145\n",
       "Seat                    143\n",
       "Renault                 139\n",
       "Chevrolet               138\n",
       "Hyundai                 123\n",
       "Chrysler Jeep           109\n",
       "Nissan                  107\n",
       "Subaru                  104\n",
       "Fiat                     89\n",
       "Mazda                    88\n",
       "Mitsubishi               85\n",
       "Suzuki                   65\n",
       "Land Rover               45\n",
       "Aston Martin Lagonda     40\n",
       "Smart                    40\n",
       "Lexus                    37\n",
       "Alfa Romeo               33\n",
       "Jaguar Cars              32\n",
       "SsangYong                30\n",
       "Infiniti                 23\n",
       "Bentley Motors           21\n",
       "Ferrari                  18\n",
       "Maserati                 17\n",
       "Corvette                 16\n",
       "Lotus                    16\n",
       "Morgan Motor Company     12\n",
       "Rolls-Royce              12\n",
       "Abarth                   11\n",
       "Dacia                     9\n",
       "McLaren                   8\n",
       "Perodua                   8\n",
       "MG Motors UK              5\n",
       "MG Motors Uk              4\n",
       "LTI                       4\n",
       "Name: manufacturer, dtype: int64"
      ]
     },
     "execution_count": 11,
     "metadata": {},
     "output_type": "execute_result"
    }
   ],
   "source": [
    "df_pop['manufacturer'].value_counts()"
   ]
  },
  {
   "cell_type": "code",
   "execution_count": 12,
   "metadata": {},
   "outputs": [
    {
     "data": {
      "text/plain": [
       "Index(['SsangYong', 'Infiniti', 'Bentley Motors', 'Ferrari', 'Maserati',\n",
       "       'Corvette', 'Lotus', 'Morgan Motor Company', 'Rolls-Royce', 'Abarth',\n",
       "       'Dacia', 'McLaren', 'Perodua', 'MG Motors UK', 'MG Motors Uk', 'LTI'],\n",
       "      dtype='object')"
      ]
     },
     "execution_count": 12,
     "metadata": {},
     "output_type": "execute_result"
    }
   ],
   "source": [
    "small_mf = df_pop['manufacturer'].value_counts() <= 30\n",
    "small_mf[small_mf].index"
   ]
  },
  {
   "cell_type": "code",
   "execution_count": 13,
   "metadata": {},
   "outputs": [
    {
     "data": {
      "text/plain": [
       "array(['Other', 'Ford', 'Mitsubishi', 'Peugeot', 'Audi', 'BMW',\n",
       "       'Mercedes-Benz', 'Volkswagen', 'Seat', 'Chevrolet', 'Smart',\n",
       "       'Honda', 'Vauxhall', 'Alfa Romeo', 'Hyundai', 'Kia', 'Nissan',\n",
       "       'Volvo', 'Mazda', 'Chrysler Jeep', 'Renault', 'Skoda', 'Lexus',\n",
       "       'Suzuki', 'Citroen', 'Fiat', 'Subaru', 'Porsche', 'Toyota', 'Mini',\n",
       "       'Land Rover', 'Aston Martin Lagonda', 'Jaguar Cars'], dtype=object)"
      ]
     },
     "execution_count": 13,
     "metadata": {},
     "output_type": "execute_result"
    }
   ],
   "source": [
    "X = X_train.copy()\n",
    "group_small = lambda row : 'Other' if row in small_mf[small_mf].index else row\n",
    "X['manufacturer'] = X['manufacturer'].apply(group_small)\n",
    "X['manufacturer'].unique()"
   ]
  },
  {
   "cell_type": "code",
   "execution_count": 14,
   "metadata": {},
   "outputs": [
    {
     "data": {
      "text/plain": [
       "Index(['M7', 'QA6', '5AT', 'SAT5', '4AT', 'AMT5', 'A6-AWD', 'A6x2', 'ET5',\n",
       "       'ASM', 'DCT7', 'M6-AWD', 'SAT6', 'M6x2', '7SP. SSG', 'MultiDriv',\n",
       "       'MultiDrive', 'A8-AWD', '5MTx2', 'Multi5', 'M5x2', 'A5-AWD', 'MTA5',\n",
       "       'Multi6', 'S/A6', 'M8'],\n",
       "      dtype='object')"
      ]
     },
     "execution_count": 14,
     "metadata": {},
     "output_type": "execute_result"
    }
   ],
   "source": [
    "small_tm = df_pop['transmission'].value_counts() <= 30\n",
    "small_tm[small_tm].index"
   ]
  },
  {
   "cell_type": "code",
   "execution_count": 15,
   "metadata": {},
   "outputs": [
    {
     "data": {
      "text/plain": [
       "Manual       4275\n",
       "Automatic    3221\n",
       "Name: transmission_type, dtype: int64"
      ]
     },
     "execution_count": 15,
     "metadata": {},
     "output_type": "execute_result"
    }
   ],
   "source": [
    "df_pop['transmission_type'].value_counts()"
   ]
  },
  {
   "cell_type": "code",
   "execution_count": 16,
   "metadata": {},
   "outputs": [
    {
     "data": {
      "text/plain": [
       "Diesel                      3960\n",
       "Petrol                      3747\n",
       "Petrol Hybrid                 62\n",
       "Diesel Electric               22\n",
       "Petrol / E85 (Flex Fuel)      16\n",
       "Petrol Electric               13\n",
       "Electricity                    7\n",
       "Electricity/Petrol             5\n",
       "CNG                            4\n",
       "Electricity/Diesel             1\n",
       "Name: fuel_type, dtype: int64"
      ]
     },
     "execution_count": 16,
     "metadata": {},
     "output_type": "execute_result"
    }
   ],
   "source": [
    "df_pop['fuel_type'].value_counts()"
   ]
  },
  {
   "cell_type": "code",
   "execution_count": 17,
   "metadata": {},
   "outputs": [
    {
     "data": {
      "text/plain": [
       "Index(['Diesel Electric', 'Petrol / E85 (Flex Fuel)', 'Petrol Electric',\n",
       "       'Electricity', 'Electricity/Petrol', 'CNG', 'Electricity/Diesel'],\n",
       "      dtype='object')"
      ]
     },
     "execution_count": 17,
     "metadata": {},
     "output_type": "execute_result"
    }
   ],
   "source": [
    "small_ft = df_pop['fuel_type'].value_counts() <= 30\n",
    "small_ft[small_ft].index"
   ]
  },
  {
   "cell_type": "code",
   "execution_count": 36,
   "metadata": {},
   "outputs": [],
   "source": [
    "class EmissionsTransformer(BaseEstimator, TransformerMixin):\n",
    "    \"\"\"\n",
    "    Adds dummies to categorical columns and removes the original ones\n",
    "    \"\"\"\n",
    "\n",
    "    def drop_columns(self, X):\n",
    "        \"\"\"Dropping irrelevant columns from the data set\"\"\"\n",
    "\n",
    "        irrelevant_numeric = [\n",
    "            'urban_metric', 'extra_urban_metric', 'urban_imperial',\n",
    "            'extra_urban_imperial', 'combined_imperial', 'thc_nox_emissions',\n",
    "            'fuel_cost_6000_miles', 'standard_12_months', 'standard_6_months',\n",
    "            'first_year_12_months', 'first_year_6_months',\n",
    "        ]\n",
    "        X = X.drop(irrelevant_numeric, axis=1)\n",
    "\n",
    "        irrelevant_categorical = ['model', 'description']\n",
    "        X = X.drop(irrelevant_categorical, axis=1)\n",
    "\n",
    "        return X\n",
    "\n",
    "    def fill_columns(self, X):\n",
    "        \"\"\"Filling the numeric columns with the mean of these columns\"\"\"\n",
    "\n",
    "        relevant_numeric = [\n",
    "            'year', 'euro_standard', 'noise_level', 'engine_capacity',\n",
    "            'combined_metric', 'fuel_cost_12000_miles', 'co2', 'thc_emissions',\n",
    "            'co_emissions', 'nox_emissions', 'particulates_emissions',\n",
    "        ]\n",
    "        X[relevant_numeric] = X[relevant_numeric].fillna(X.mean())\n",
    "\n",
    "        return X\n",
    "\n",
    "    def adjust_categorical(self, X):\n",
    "        \"\"\"\n",
    "        A few issues would occur when adding dummies to the categorical columns without this step.\n",
    "        \"\"\"\n",
    "\n",
    "        small_mf = ['SsangYong', 'Infiniti', 'Bentley Motors', 'Ferrari', 'Maserati',\n",
    "                    'Lotus', 'Corvette', 'Rolls-Royce', 'Morgan Motor Company', 'Abarth',\n",
    "                    'Dacia', 'McLaren', 'Perodua', 'MG Motors UK', 'LTI', 'MG Motors Uk']\n",
    "        X['manufacturer'] = X['manufacturer'].apply(\n",
    "            lambda row: 'Other' if row in small_mf else row\n",
    "        )\n",
    "\n",
    "        small_tm = ['QA6', 'M7', '5AT', 'SAT5', '4AT', 'AMT5', 'A6-AWD', 'A6x2', 'ASM',\n",
    "                    'DCT7', 'ET5', 'M6-AWD', 'SAT6', 'M6x2', '7SP. SSG', 'MultiDriv',\n",
    "                    'MultiDrive', 'A8-AWD', 'Multi5', '5MTx2', 'M5x2', 'A5-AWD', 'Multi6',\n",
    "                    'S/A6', 'MTA5', 'M8']\n",
    "        X['transmission'] = X['transmission'].apply(\n",
    "            lambda row: 'Other' if row in small_tm else row\n",
    "        )\n",
    "\n",
    "        small_ft = ['Diesel Electric', 'Petrol / E85 (Flex Fuel)', 'Petrol Electric',\n",
    "                    'Electricity', 'Electricity/Petrol', 'CNG', 'Electricity/Diesel']\n",
    "        X['fuel_type'] = X['fuel_type'].apply(lambda row: 'Other' if row in small_ft else row)\n",
    "\n",
    "        return X\n",
    "\n",
    "    def add_dummies(self, X):\n",
    "        mf = pd.get_dummies(X['manufacturer'], prefix='manufacturer')\n",
    "        tm = pd.get_dummies(X['transmission'], prefix='transmission')\n",
    "        tmt = pd.get_dummies(X['transmission_type'], prefix='transmission_type')\n",
    "        ft = pd.get_dummies(X['fuel_type'], prefix='fuel_type')\n",
    "\n",
    "        X = pd.concat([X, mf, tm, tmt, ft], axis=1)\n",
    "        X = X.drop(['manufacturer', 'transmission', 'transmission_type', 'fuel_type'], axis=1)\n",
    "        return X\n",
    "\n",
    "    def fit(self, X, y=None):\n",
    "        return self\n",
    "\n",
    "    def transform(self, X):\n",
    "        X = self.drop_columns(X)\n",
    "        X = self.fill_columns(X)\n",
    "        X = self.adjust_categorical(X)\n",
    "        X = self.add_dummies(X)\n",
    "        return X\n"
   ]
  },
  {
   "cell_type": "code",
   "execution_count": 37,
   "metadata": {},
   "outputs": [],
   "source": [
    "transformer = EmissionsTransformer()"
   ]
  },
  {
   "cell_type": "code",
   "execution_count": 38,
   "metadata": {},
   "outputs": [],
   "source": [
    "def build_model():\n",
    "    \"\"\"Describes the model used on the data, consisting of NLP transformers and\n",
    "    an individual classifier of each category.\"\"\"\n",
    "\n",
    "    pipeline = Pipeline([\n",
    "        ('et', EmissionsTransformer()),\n",
    "        ('clf', RandomForestClassifier()),\n",
    "    ])\n",
    "\n",
    "    parameters = {\n",
    "        'clf__criterion': ['gini', 'entropy'],\n",
    "    }\n",
    "\n",
    "    model = GridSearchCV(pipeline, param_grid=parameters)\n",
    "\n",
    "    return model"
   ]
  },
  {
   "cell_type": "code",
   "execution_count": 39,
   "metadata": {},
   "outputs": [],
   "source": [
    "model = build_model()"
   ]
  },
  {
   "cell_type": "code",
   "execution_count": 40,
   "metadata": {},
   "outputs": [
    {
     "data": {
      "text/plain": [
       "{'cv': None,\n",
       " 'error_score': nan,\n",
       " 'estimator__memory': None,\n",
       " 'estimator__steps': [('et', EmissionsTransformer()),\n",
       "  ('clf', RandomForestClassifier())],\n",
       " 'estimator__verbose': False,\n",
       " 'estimator__et': EmissionsTransformer(),\n",
       " 'estimator__clf': RandomForestClassifier(),\n",
       " 'estimator__clf__bootstrap': True,\n",
       " 'estimator__clf__ccp_alpha': 0.0,\n",
       " 'estimator__clf__class_weight': None,\n",
       " 'estimator__clf__criterion': 'gini',\n",
       " 'estimator__clf__max_depth': None,\n",
       " 'estimator__clf__max_features': 'auto',\n",
       " 'estimator__clf__max_leaf_nodes': None,\n",
       " 'estimator__clf__max_samples': None,\n",
       " 'estimator__clf__min_impurity_decrease': 0.0,\n",
       " 'estimator__clf__min_impurity_split': None,\n",
       " 'estimator__clf__min_samples_leaf': 1,\n",
       " 'estimator__clf__min_samples_split': 2,\n",
       " 'estimator__clf__min_weight_fraction_leaf': 0.0,\n",
       " 'estimator__clf__n_estimators': 100,\n",
       " 'estimator__clf__n_jobs': None,\n",
       " 'estimator__clf__oob_score': False,\n",
       " 'estimator__clf__random_state': None,\n",
       " 'estimator__clf__verbose': 0,\n",
       " 'estimator__clf__warm_start': False,\n",
       " 'estimator': Pipeline(steps=[('et', EmissionsTransformer()),\n",
       "                 ('clf', RandomForestClassifier())]),\n",
       " 'n_jobs': None,\n",
       " 'param_grid': {'clf__criterion': ['gini', 'entropy']},\n",
       " 'pre_dispatch': '2*n_jobs',\n",
       " 'refit': True,\n",
       " 'return_train_score': False,\n",
       " 'scoring': None,\n",
       " 'verbose': 0}"
      ]
     },
     "execution_count": 40,
     "metadata": {},
     "output_type": "execute_result"
    }
   ],
   "source": [
    "model.get_params()"
   ]
  },
  {
   "cell_type": "code",
   "execution_count": 41,
   "metadata": {},
   "outputs": [],
   "source": [
    "def evaluate_model(model, X_test, y_test):\n",
    "    \"\"\"Shows the accuracy, precision, and recall of the model.\"\"\"\n",
    "\n",
    "    y_pred = model.predict(X_test)\n",
    "    print(classification_report(y_test, y_pred))\n",
    "    print(model.best_params_)"
   ]
  },
  {
   "cell_type": "code",
   "execution_count": 42,
   "metadata": {},
   "outputs": [],
   "source": [
    "def save_model(model, model_filepath):\n",
    "    \"\"\"Saves the model as a pickle file\"\"\"\n",
    "\n",
    "    with open(model_filepath, 'wb') as file:\n",
    "        pickle.dump(model, file)"
   ]
  },
  {
   "cell_type": "code",
   "execution_count": 43,
   "metadata": {},
   "outputs": [
    {
     "name": "stdout",
     "output_type": "stream",
     "text": [
      "Loading data...\n",
      "Splitting data...\n",
      "Building model...\n",
      "Training model...\n",
      "Evaluating model...\n",
      "              precision    recall  f1-score   support\n",
      "\n",
      "           A       1.00      1.00      1.00        87\n",
      "           B       0.97      1.00      0.98       111\n",
      "           C       1.00      0.98      0.99       225\n",
      "           D       1.00      1.00      1.00       227\n",
      "           E       1.00      1.00      1.00       230\n",
      "           F       1.00      1.00      1.00       227\n",
      "           G       0.99      1.00      0.99       288\n",
      "           H       0.98      0.96      0.97       113\n",
      "           I       0.95      0.95      0.95        82\n",
      "           J       0.98      1.00      0.99       113\n",
      "           K       1.00      1.00      1.00       106\n",
      "           L       1.00      1.00      1.00        52\n",
      "           M       1.00      1.00      1.00        99\n",
      "\n",
      "    accuracy                           0.99      1960\n",
      "   macro avg       0.99      0.99      0.99      1960\n",
      "weighted avg       0.99      0.99      0.99      1960\n",
      "\n",
      "{'clf__criterion': 'entropy'}\n",
      "Saving model...\n",
      "    MODEL: classifier.pkl\n",
      "Trained model saved!\n"
     ]
    }
   ],
   "source": [
    "database_filepath = '../data/emissions.db'\n",
    "model_filepath = 'classifier.pkl'\n",
    "\n",
    "print('Loading data...')\n",
    "df = load_data(database_filepath)\n",
    "\n",
    "print('Splitting data...')\n",
    "X_train, X_test, y_train, y_test, df_pop, X_nan = split_data(df)\n",
    "\n",
    "print('Building model...')\n",
    "model = build_model()\n",
    "\n",
    "print('Training model...')\n",
    "model.fit(X_train, y_train)\n",
    "\n",
    "print('Evaluating model...')\n",
    "evaluate_model(model, X_test, y_test)\n",
    "\n",
    "print('Saving model...\\n    MODEL: {}'.format(model_filepath))\n",
    "save_model(model, model_filepath)\n",
    "\n",
    "print('Trained model saved!')"
   ]
  },
  {
   "cell_type": "code",
   "execution_count": null,
   "metadata": {},
   "outputs": [],
   "source": []
  }
 ],
 "metadata": {
  "kernelspec": {
   "display_name": "Python 3",
   "language": "python",
   "name": "python3"
  },
  "language_info": {
   "codemirror_mode": {
    "name": "ipython",
    "version": 3
   },
   "file_extension": ".py",
   "mimetype": "text/x-python",
   "name": "python",
   "nbconvert_exporter": "python",
   "pygments_lexer": "ipython3",
   "version": "3.9.1"
  }
 },
 "nbformat": 4,
 "nbformat_minor": 2
}
